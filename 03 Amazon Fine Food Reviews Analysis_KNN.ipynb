{
 "cells": [
  {
   "cell_type": "markdown",
   "metadata": {},
   "source": [
    "# Amazon Fine Food Reviews Analysis\n",
    "\n",
    "\n",
    "Data Source: https://www.kaggle.com/snap/amazon-fine-food-reviews <br>\n",
    "\n",
    "EDA: https://nycdatascience.com/blog/student-works/amazon-fine-foods-visualization/\n",
    "\n",
    "\n",
    "The Amazon Fine Food Reviews dataset consists of reviews of fine foods from Amazon.<br>\n",
    "\n",
    "Number of reviews: 568,454<br>\n",
    "Number of users: 256,059<br>\n",
    "Number of products: 74,258<br>\n",
    "Timespan: Oct 1999 - Oct 2012<br>\n",
    "Number of Attributes/Columns in data: 10 \n",
    "\n",
    "Attribute Information:\n",
    "\n",
    "1. Id\n",
    "2. ProductId - unique identifier for the product\n",
    "3. UserId - unqiue identifier for the user\n",
    "4. ProfileName\n",
    "5. HelpfulnessNumerator - number of users who found the review helpful\n",
    "6. HelpfulnessDenominator - number of users who indicated whether they found the review helpful or not\n",
    "7. Score - rating between 1 and 5\n",
    "8. Time - timestamp for the review\n",
    "9. Summary - brief summary of the review\n",
    "10. Text - text of the review\n",
    "\n",
    "\n",
    "#### Objective:\n",
    "Given a review, determine whether the review is positive (rating of 4 or 5) or negative (rating of 1 or 2).\n",
    "\n",
    "<br>\n",
    "[Q] How to determine if a review is positive or negative?<br>\n",
    "<br> \n",
    "[Ans] We could use Score/Rating. A rating of 4 or 5 can be cosnidered as a positive review. A rating of 1 or 2 can be considered as negative one. A review of rating 3 is considered nuetral and such reviews are ignored from our analysis. This is an approximate and proxy way of determining the polarity (positivity/negativity) of a review.\n",
    "\n",
    "\n"
   ]
  },
  {
   "cell_type": "markdown",
   "metadata": {},
   "source": [
    "# [1]. Reading Data"
   ]
  },
  {
   "cell_type": "markdown",
   "metadata": {},
   "source": [
    "## [1.1] Loading the data\n",
    "\n",
    "The dataset is available in two forms\n",
    "1. .csv file\n",
    "2. SQLite Database\n",
    "\n",
    "In order to load the data, We have used the SQLITE dataset as it is easier to query the data and visualise the data efficiently.\n",
    "<br> \n",
    "\n",
    "Here as we only want to get the global sentiment of the recommendations (positive or negative), we will purposefully ignore all Scores equal to 3. If the score is above 3, then the recommendation wil be set to \"positive\". Otherwise, it will be set to \"negative\"."
   ]
  },
  {
   "cell_type": "code",
   "execution_count": 2,
   "metadata": {},
   "outputs": [],
   "source": [
    "%matplotlib inline\n",
    "import warnings\n",
    "warnings.filterwarnings(\"ignore\")\n",
    "\n",
    "\n",
    "import sqlite3\n",
    "import pandas as pd\n",
    "import numpy as np\n",
    "import nltk\n",
    "import string\n",
    "import matplotlib.pyplot as plt\n",
    "import seaborn as sns\n",
    "from sklearn.feature_extraction.text import TfidfTransformer\n",
    "from sklearn.feature_extraction.text import TfidfVectorizer\n",
    "\n",
    "from sklearn.feature_extraction.text import CountVectorizer\n",
    "from sklearn.metrics import confusion_matrix\n",
    "from sklearn import metrics\n",
    "from sklearn.metrics import roc_curve, auc\n",
    "from nltk.stem.porter import PorterStemmer\n",
    "\n",
    "import re\n",
    "# Tutorial about Python regular expressions: https://pymotw.com/2/re/\n",
    "import string\n",
    "from nltk.corpus import stopwords\n",
    "from nltk.stem import PorterStemmer\n",
    "from nltk.stem.wordnet import WordNetLemmatizer\n",
    "\n",
    "from gensim.models import Word2Vec\n",
    "from gensim.models import KeyedVectors\n",
    "import pickle\n",
    "\n",
    "from tqdm import tqdm\n",
    "import os"
   ]
  },
  {
   "cell_type": "code",
   "execution_count": 3,
   "metadata": {},
   "outputs": [
    {
     "name": "stdout",
     "output_type": "stream",
     "text": [
      "Number of data points in our data (50000, 10)\n"
     ]
    },
    {
     "data": {
      "text/html": [
       "<div>\n",
       "<style scoped>\n",
       "    .dataframe tbody tr th:only-of-type {\n",
       "        vertical-align: middle;\n",
       "    }\n",
       "\n",
       "    .dataframe tbody tr th {\n",
       "        vertical-align: top;\n",
       "    }\n",
       "\n",
       "    .dataframe thead th {\n",
       "        text-align: right;\n",
       "    }\n",
       "</style>\n",
       "<table border=\"1\" class=\"dataframe\">\n",
       "  <thead>\n",
       "    <tr style=\"text-align: right;\">\n",
       "      <th></th>\n",
       "      <th>Id</th>\n",
       "      <th>ProductId</th>\n",
       "      <th>UserId</th>\n",
       "      <th>ProfileName</th>\n",
       "      <th>HelpfulnessNumerator</th>\n",
       "      <th>HelpfulnessDenominator</th>\n",
       "      <th>Score</th>\n",
       "      <th>Time</th>\n",
       "      <th>Summary</th>\n",
       "      <th>Text</th>\n",
       "    </tr>\n",
       "  </thead>\n",
       "  <tbody>\n",
       "    <tr>\n",
       "      <td>0</td>\n",
       "      <td>1</td>\n",
       "      <td>B001E4KFG0</td>\n",
       "      <td>A3SGXH7AUHU8GW</td>\n",
       "      <td>delmartian</td>\n",
       "      <td>1</td>\n",
       "      <td>1</td>\n",
       "      <td>1</td>\n",
       "      <td>1303862400</td>\n",
       "      <td>Good Quality Dog Food</td>\n",
       "      <td>I have bought several of the Vitality canned d...</td>\n",
       "    </tr>\n",
       "    <tr>\n",
       "      <td>1</td>\n",
       "      <td>2</td>\n",
       "      <td>B00813GRG4</td>\n",
       "      <td>A1D87F6ZCVE5NK</td>\n",
       "      <td>dll pa</td>\n",
       "      <td>0</td>\n",
       "      <td>0</td>\n",
       "      <td>0</td>\n",
       "      <td>1346976000</td>\n",
       "      <td>Not as Advertised</td>\n",
       "      <td>Product arrived labeled as Jumbo Salted Peanut...</td>\n",
       "    </tr>\n",
       "    <tr>\n",
       "      <td>2</td>\n",
       "      <td>3</td>\n",
       "      <td>B000LQOCH0</td>\n",
       "      <td>ABXLMWJIXXAIN</td>\n",
       "      <td>Natalia Corres \"Natalia Corres\"</td>\n",
       "      <td>1</td>\n",
       "      <td>1</td>\n",
       "      <td>1</td>\n",
       "      <td>1219017600</td>\n",
       "      <td>\"Delight\" says it all</td>\n",
       "      <td>This is a confection that has been around a fe...</td>\n",
       "    </tr>\n",
       "  </tbody>\n",
       "</table>\n",
       "</div>"
      ],
      "text/plain": [
       "   Id   ProductId          UserId                      ProfileName  \\\n",
       "0   1  B001E4KFG0  A3SGXH7AUHU8GW                       delmartian   \n",
       "1   2  B00813GRG4  A1D87F6ZCVE5NK                           dll pa   \n",
       "2   3  B000LQOCH0   ABXLMWJIXXAIN  Natalia Corres \"Natalia Corres\"   \n",
       "\n",
       "   HelpfulnessNumerator  HelpfulnessDenominator  Score        Time  \\\n",
       "0                     1                       1      1  1303862400   \n",
       "1                     0                       0      0  1346976000   \n",
       "2                     1                       1      1  1219017600   \n",
       "\n",
       "                 Summary                                               Text  \n",
       "0  Good Quality Dog Food  I have bought several of the Vitality canned d...  \n",
       "1      Not as Advertised  Product arrived labeled as Jumbo Salted Peanut...  \n",
       "2  \"Delight\" says it all  This is a confection that has been around a fe...  "
      ]
     },
     "execution_count": 3,
     "metadata": {},
     "output_type": "execute_result"
    }
   ],
   "source": [
    "# using SQLite Table to read data.\n",
    "con = sqlite3.connect('database.sqlite') \n",
    "\n",
    "# filtering only positive and negative reviews i.e. \n",
    "# not taking into consideration those reviews with Score=3\n",
    "# SELECT * FROM Reviews WHERE Score != 3 LIMIT 500000, will give top 500000 data points\n",
    "# you can change the number to any other number based on your computing power\n",
    "\n",
    "# filtered_data = pd.read_sql_query(\"\"\" SELECT * FROM Reviews WHERE Score != 3 LIMIT 500000\"\"\", con) \n",
    "# for tsne assignment you can take 5k data points\n",
    "\n",
    "filtered_data = pd.read_sql_query(\"\"\" SELECT * FROM Reviews WHERE Score != 3 LIMIT 50000\"\"\", con) \n",
    "\n",
    "# Give reviews with Score>3 a positive rating(1), and reviews with a score<3 a negative rating(0).\n",
    "def partition(x):\n",
    "    if x < 3:\n",
    "        return 0\n",
    "    return 1\n",
    "\n",
    "#changing reviews with score less than 3 to be positive and vice-versa\n",
    "actualScore = filtered_data['Score']\n",
    "positiveNegative = actualScore.map(partition) \n",
    "filtered_data['Score'] = positiveNegative\n",
    "print(\"Number of data points in our data\", filtered_data.shape)\n",
    "filtered_data.head(3)"
   ]
  },
  {
   "cell_type": "code",
   "execution_count": 4,
   "metadata": {},
   "outputs": [],
   "source": [
    "display = pd.read_sql_query(\"\"\"\n",
    "SELECT UserId, ProductId, ProfileName, Time, Score, Text, COUNT(*)\n",
    "FROM Reviews\n",
    "GROUP BY UserId\n",
    "HAVING COUNT(*)>1\n",
    "\"\"\", con)"
   ]
  },
  {
   "cell_type": "code",
   "execution_count": 5,
   "metadata": {
    "scrolled": true
   },
   "outputs": [
    {
     "name": "stdout",
     "output_type": "stream",
     "text": [
      "(80668, 7)\n"
     ]
    },
    {
     "data": {
      "text/html": [
       "<div>\n",
       "<style scoped>\n",
       "    .dataframe tbody tr th:only-of-type {\n",
       "        vertical-align: middle;\n",
       "    }\n",
       "\n",
       "    .dataframe tbody tr th {\n",
       "        vertical-align: top;\n",
       "    }\n",
       "\n",
       "    .dataframe thead th {\n",
       "        text-align: right;\n",
       "    }\n",
       "</style>\n",
       "<table border=\"1\" class=\"dataframe\">\n",
       "  <thead>\n",
       "    <tr style=\"text-align: right;\">\n",
       "      <th></th>\n",
       "      <th>UserId</th>\n",
       "      <th>ProductId</th>\n",
       "      <th>ProfileName</th>\n",
       "      <th>Time</th>\n",
       "      <th>Score</th>\n",
       "      <th>Text</th>\n",
       "      <th>COUNT(*)</th>\n",
       "    </tr>\n",
       "  </thead>\n",
       "  <tbody>\n",
       "    <tr>\n",
       "      <td>0</td>\n",
       "      <td>#oc-R115TNMSPFT9I7</td>\n",
       "      <td>B005ZBZLT4</td>\n",
       "      <td>Breyton</td>\n",
       "      <td>1331510400</td>\n",
       "      <td>2</td>\n",
       "      <td>Overall its just OK when considering the price...</td>\n",
       "      <td>2</td>\n",
       "    </tr>\n",
       "    <tr>\n",
       "      <td>1</td>\n",
       "      <td>#oc-R11D9D7SHXIJB9</td>\n",
       "      <td>B005HG9ESG</td>\n",
       "      <td>Louis E. Emory \"hoppy\"</td>\n",
       "      <td>1342396800</td>\n",
       "      <td>5</td>\n",
       "      <td>My wife has recurring extreme muscle spasms, u...</td>\n",
       "      <td>3</td>\n",
       "    </tr>\n",
       "    <tr>\n",
       "      <td>2</td>\n",
       "      <td>#oc-R11DNU2NBKQ23Z</td>\n",
       "      <td>B005ZBZLT4</td>\n",
       "      <td>Kim Cieszykowski</td>\n",
       "      <td>1348531200</td>\n",
       "      <td>1</td>\n",
       "      <td>This coffee is horrible and unfortunately not ...</td>\n",
       "      <td>2</td>\n",
       "    </tr>\n",
       "    <tr>\n",
       "      <td>3</td>\n",
       "      <td>#oc-R11O5J5ZVQE25C</td>\n",
       "      <td>B005HG9ESG</td>\n",
       "      <td>Penguin Chick</td>\n",
       "      <td>1346889600</td>\n",
       "      <td>5</td>\n",
       "      <td>This will be the bottle that you grab from the...</td>\n",
       "      <td>3</td>\n",
       "    </tr>\n",
       "    <tr>\n",
       "      <td>4</td>\n",
       "      <td>#oc-R12KPBODL2B5ZD</td>\n",
       "      <td>B007OSBEV0</td>\n",
       "      <td>Christopher P. Presta</td>\n",
       "      <td>1348617600</td>\n",
       "      <td>1</td>\n",
       "      <td>I didnt like this coffee. Instead of telling y...</td>\n",
       "      <td>2</td>\n",
       "    </tr>\n",
       "  </tbody>\n",
       "</table>\n",
       "</div>"
      ],
      "text/plain": [
       "               UserId   ProductId             ProfileName        Time  Score  \\\n",
       "0  #oc-R115TNMSPFT9I7  B005ZBZLT4                 Breyton  1331510400      2   \n",
       "1  #oc-R11D9D7SHXIJB9  B005HG9ESG  Louis E. Emory \"hoppy\"  1342396800      5   \n",
       "2  #oc-R11DNU2NBKQ23Z  B005ZBZLT4        Kim Cieszykowski  1348531200      1   \n",
       "3  #oc-R11O5J5ZVQE25C  B005HG9ESG           Penguin Chick  1346889600      5   \n",
       "4  #oc-R12KPBODL2B5ZD  B007OSBEV0   Christopher P. Presta  1348617600      1   \n",
       "\n",
       "                                                Text  COUNT(*)  \n",
       "0  Overall its just OK when considering the price...         2  \n",
       "1  My wife has recurring extreme muscle spasms, u...         3  \n",
       "2  This coffee is horrible and unfortunately not ...         2  \n",
       "3  This will be the bottle that you grab from the...         3  \n",
       "4  I didnt like this coffee. Instead of telling y...         2  "
      ]
     },
     "execution_count": 5,
     "metadata": {},
     "output_type": "execute_result"
    }
   ],
   "source": [
    "print(display.shape)\n",
    "display.head()"
   ]
  },
  {
   "cell_type": "code",
   "execution_count": 6,
   "metadata": {},
   "outputs": [
    {
     "data": {
      "text/html": [
       "<div>\n",
       "<style scoped>\n",
       "    .dataframe tbody tr th:only-of-type {\n",
       "        vertical-align: middle;\n",
       "    }\n",
       "\n",
       "    .dataframe tbody tr th {\n",
       "        vertical-align: top;\n",
       "    }\n",
       "\n",
       "    .dataframe thead th {\n",
       "        text-align: right;\n",
       "    }\n",
       "</style>\n",
       "<table border=\"1\" class=\"dataframe\">\n",
       "  <thead>\n",
       "    <tr style=\"text-align: right;\">\n",
       "      <th></th>\n",
       "      <th>UserId</th>\n",
       "      <th>ProductId</th>\n",
       "      <th>ProfileName</th>\n",
       "      <th>Time</th>\n",
       "      <th>Score</th>\n",
       "      <th>Text</th>\n",
       "      <th>COUNT(*)</th>\n",
       "    </tr>\n",
       "  </thead>\n",
       "  <tbody>\n",
       "    <tr>\n",
       "      <td>80638</td>\n",
       "      <td>AZY10LLTJ71NX</td>\n",
       "      <td>B001ATMQK2</td>\n",
       "      <td>undertheshrine \"undertheshrine\"</td>\n",
       "      <td>1296691200</td>\n",
       "      <td>5</td>\n",
       "      <td>I bought this 6 pack because for the price tha...</td>\n",
       "      <td>5</td>\n",
       "    </tr>\n",
       "  </tbody>\n",
       "</table>\n",
       "</div>"
      ],
      "text/plain": [
       "              UserId   ProductId                      ProfileName        Time  \\\n",
       "80638  AZY10LLTJ71NX  B001ATMQK2  undertheshrine \"undertheshrine\"  1296691200   \n",
       "\n",
       "       Score                                               Text  COUNT(*)  \n",
       "80638      5  I bought this 6 pack because for the price tha...         5  "
      ]
     },
     "execution_count": 6,
     "metadata": {},
     "output_type": "execute_result"
    }
   ],
   "source": [
    "display[display['UserId']=='AZY10LLTJ71NX']"
   ]
  },
  {
   "cell_type": "code",
   "execution_count": 7,
   "metadata": {},
   "outputs": [
    {
     "data": {
      "text/plain": [
       "393063"
      ]
     },
     "execution_count": 7,
     "metadata": {},
     "output_type": "execute_result"
    }
   ],
   "source": [
    "display['COUNT(*)'].sum()"
   ]
  },
  {
   "cell_type": "markdown",
   "metadata": {},
   "source": [
    "#  [2] Exploratory Data Analysis"
   ]
  },
  {
   "cell_type": "markdown",
   "metadata": {},
   "source": [
    "## [2.1] Data Cleaning: Deduplication\n",
    "\n",
    "It is observed (as shown in the table below) that the reviews data had many duplicate entries. Hence it was necessary to remove duplicates in order to get unbiased results for the analysis of the data.  Following is an example:"
   ]
  },
  {
   "cell_type": "code",
   "execution_count": 8,
   "metadata": {
    "scrolled": false
   },
   "outputs": [
    {
     "data": {
      "text/html": [
       "<div>\n",
       "<style scoped>\n",
       "    .dataframe tbody tr th:only-of-type {\n",
       "        vertical-align: middle;\n",
       "    }\n",
       "\n",
       "    .dataframe tbody tr th {\n",
       "        vertical-align: top;\n",
       "    }\n",
       "\n",
       "    .dataframe thead th {\n",
       "        text-align: right;\n",
       "    }\n",
       "</style>\n",
       "<table border=\"1\" class=\"dataframe\">\n",
       "  <thead>\n",
       "    <tr style=\"text-align: right;\">\n",
       "      <th></th>\n",
       "      <th>Id</th>\n",
       "      <th>ProductId</th>\n",
       "      <th>UserId</th>\n",
       "      <th>ProfileName</th>\n",
       "      <th>HelpfulnessNumerator</th>\n",
       "      <th>HelpfulnessDenominator</th>\n",
       "      <th>Score</th>\n",
       "      <th>Time</th>\n",
       "      <th>Summary</th>\n",
       "      <th>Text</th>\n",
       "    </tr>\n",
       "  </thead>\n",
       "  <tbody>\n",
       "    <tr>\n",
       "      <td>0</td>\n",
       "      <td>78445</td>\n",
       "      <td>B000HDL1RQ</td>\n",
       "      <td>AR5J8UI46CURR</td>\n",
       "      <td>Geetha Krishnan</td>\n",
       "      <td>2</td>\n",
       "      <td>2</td>\n",
       "      <td>5</td>\n",
       "      <td>1199577600</td>\n",
       "      <td>LOACKER QUADRATINI VANILLA WAFERS</td>\n",
       "      <td>DELICIOUS WAFERS. I FIND THAT EUROPEAN WAFERS ...</td>\n",
       "    </tr>\n",
       "    <tr>\n",
       "      <td>1</td>\n",
       "      <td>138317</td>\n",
       "      <td>B000HDOPYC</td>\n",
       "      <td>AR5J8UI46CURR</td>\n",
       "      <td>Geetha Krishnan</td>\n",
       "      <td>2</td>\n",
       "      <td>2</td>\n",
       "      <td>5</td>\n",
       "      <td>1199577600</td>\n",
       "      <td>LOACKER QUADRATINI VANILLA WAFERS</td>\n",
       "      <td>DELICIOUS WAFERS. I FIND THAT EUROPEAN WAFERS ...</td>\n",
       "    </tr>\n",
       "    <tr>\n",
       "      <td>2</td>\n",
       "      <td>138277</td>\n",
       "      <td>B000HDOPYM</td>\n",
       "      <td>AR5J8UI46CURR</td>\n",
       "      <td>Geetha Krishnan</td>\n",
       "      <td>2</td>\n",
       "      <td>2</td>\n",
       "      <td>5</td>\n",
       "      <td>1199577600</td>\n",
       "      <td>LOACKER QUADRATINI VANILLA WAFERS</td>\n",
       "      <td>DELICIOUS WAFERS. I FIND THAT EUROPEAN WAFERS ...</td>\n",
       "    </tr>\n",
       "    <tr>\n",
       "      <td>3</td>\n",
       "      <td>73791</td>\n",
       "      <td>B000HDOPZG</td>\n",
       "      <td>AR5J8UI46CURR</td>\n",
       "      <td>Geetha Krishnan</td>\n",
       "      <td>2</td>\n",
       "      <td>2</td>\n",
       "      <td>5</td>\n",
       "      <td>1199577600</td>\n",
       "      <td>LOACKER QUADRATINI VANILLA WAFERS</td>\n",
       "      <td>DELICIOUS WAFERS. I FIND THAT EUROPEAN WAFERS ...</td>\n",
       "    </tr>\n",
       "    <tr>\n",
       "      <td>4</td>\n",
       "      <td>155049</td>\n",
       "      <td>B000PAQ75C</td>\n",
       "      <td>AR5J8UI46CURR</td>\n",
       "      <td>Geetha Krishnan</td>\n",
       "      <td>2</td>\n",
       "      <td>2</td>\n",
       "      <td>5</td>\n",
       "      <td>1199577600</td>\n",
       "      <td>LOACKER QUADRATINI VANILLA WAFERS</td>\n",
       "      <td>DELICIOUS WAFERS. I FIND THAT EUROPEAN WAFERS ...</td>\n",
       "    </tr>\n",
       "  </tbody>\n",
       "</table>\n",
       "</div>"
      ],
      "text/plain": [
       "       Id   ProductId         UserId      ProfileName  HelpfulnessNumerator  \\\n",
       "0   78445  B000HDL1RQ  AR5J8UI46CURR  Geetha Krishnan                     2   \n",
       "1  138317  B000HDOPYC  AR5J8UI46CURR  Geetha Krishnan                     2   \n",
       "2  138277  B000HDOPYM  AR5J8UI46CURR  Geetha Krishnan                     2   \n",
       "3   73791  B000HDOPZG  AR5J8UI46CURR  Geetha Krishnan                     2   \n",
       "4  155049  B000PAQ75C  AR5J8UI46CURR  Geetha Krishnan                     2   \n",
       "\n",
       "   HelpfulnessDenominator  Score        Time  \\\n",
       "0                       2      5  1199577600   \n",
       "1                       2      5  1199577600   \n",
       "2                       2      5  1199577600   \n",
       "3                       2      5  1199577600   \n",
       "4                       2      5  1199577600   \n",
       "\n",
       "                             Summary  \\\n",
       "0  LOACKER QUADRATINI VANILLA WAFERS   \n",
       "1  LOACKER QUADRATINI VANILLA WAFERS   \n",
       "2  LOACKER QUADRATINI VANILLA WAFERS   \n",
       "3  LOACKER QUADRATINI VANILLA WAFERS   \n",
       "4  LOACKER QUADRATINI VANILLA WAFERS   \n",
       "\n",
       "                                                Text  \n",
       "0  DELICIOUS WAFERS. I FIND THAT EUROPEAN WAFERS ...  \n",
       "1  DELICIOUS WAFERS. I FIND THAT EUROPEAN WAFERS ...  \n",
       "2  DELICIOUS WAFERS. I FIND THAT EUROPEAN WAFERS ...  \n",
       "3  DELICIOUS WAFERS. I FIND THAT EUROPEAN WAFERS ...  \n",
       "4  DELICIOUS WAFERS. I FIND THAT EUROPEAN WAFERS ...  "
      ]
     },
     "execution_count": 8,
     "metadata": {},
     "output_type": "execute_result"
    }
   ],
   "source": [
    "display= pd.read_sql_query(\"\"\"\n",
    "SELECT *\n",
    "FROM Reviews\n",
    "WHERE Score != 3 AND UserId=\"AR5J8UI46CURR\"\n",
    "ORDER BY ProductID\n",
    "\"\"\", con)\n",
    "display.head()"
   ]
  },
  {
   "cell_type": "markdown",
   "metadata": {},
   "source": [
    "As it can be seen above that same user has multiple reviews with same values for HelpfulnessNumerator, HelpfulnessDenominator, Score, Time, Summary and Text and on doing analysis it was found that <br>\n",
    "<br> \n",
    "ProductId=B000HDOPZG was Loacker Quadratini Vanilla Wafer Cookies, 8.82-Ounce Packages (Pack of 8)<br>\n",
    "<br> \n",
    "ProductId=B000HDL1RQ was Loacker Quadratini Lemon Wafer Cookies, 8.82-Ounce Packages (Pack of 8) and so on<br>\n",
    "\n",
    "It was inferred after analysis that reviews with same parameters other than ProductId belonged to the same product just having different flavour or quantity. Hence in order to reduce redundancy it was decided to eliminate the rows having same parameters.<br>\n",
    "\n",
    "The method used for the same was that we first sort the data according to ProductId and then just keep the first similar product review and delelte the others. for eg. in the above just the review for ProductId=B000HDL1RQ remains. This method ensures that there is only one representative for each product and deduplication without sorting would lead to possibility of different representatives still existing for the same product."
   ]
  },
  {
   "cell_type": "code",
   "execution_count": 9,
   "metadata": {},
   "outputs": [],
   "source": [
    "#Sorting data according to ProductId in ascending order\n",
    "sorted_data=filtered_data.sort_values('ProductId', axis=0, ascending=True, inplace=False, kind='quicksort', na_position='last')"
   ]
  },
  {
   "cell_type": "code",
   "execution_count": 10,
   "metadata": {},
   "outputs": [
    {
     "data": {
      "text/plain": [
       "(46072, 10)"
      ]
     },
     "execution_count": 10,
     "metadata": {},
     "output_type": "execute_result"
    }
   ],
   "source": [
    "#Deduplication of entries\n",
    "final=sorted_data.drop_duplicates(subset={\"UserId\",\"ProfileName\",\"Time\",\"Text\"}, keep='first', inplace=False)\n",
    "final.shape"
   ]
  },
  {
   "cell_type": "code",
   "execution_count": 11,
   "metadata": {},
   "outputs": [
    {
     "data": {
      "text/plain": [
       "92.144"
      ]
     },
     "execution_count": 11,
     "metadata": {},
     "output_type": "execute_result"
    }
   ],
   "source": [
    "#Checking to see how much % of data still remains\n",
    "(final['Id'].size*1.0)/(filtered_data['Id'].size*1.0)*100"
   ]
  },
  {
   "cell_type": "markdown",
   "metadata": {},
   "source": [
    "<b>Observation:-</b> It was also seen that in two rows given below the value of HelpfulnessNumerator is greater than HelpfulnessDenominator which is not practically possible hence these two rows too are removed from calcualtions"
   ]
  },
  {
   "cell_type": "code",
   "execution_count": 12,
   "metadata": {},
   "outputs": [
    {
     "data": {
      "text/html": [
       "<div>\n",
       "<style scoped>\n",
       "    .dataframe tbody tr th:only-of-type {\n",
       "        vertical-align: middle;\n",
       "    }\n",
       "\n",
       "    .dataframe tbody tr th {\n",
       "        vertical-align: top;\n",
       "    }\n",
       "\n",
       "    .dataframe thead th {\n",
       "        text-align: right;\n",
       "    }\n",
       "</style>\n",
       "<table border=\"1\" class=\"dataframe\">\n",
       "  <thead>\n",
       "    <tr style=\"text-align: right;\">\n",
       "      <th></th>\n",
       "      <th>Id</th>\n",
       "      <th>ProductId</th>\n",
       "      <th>UserId</th>\n",
       "      <th>ProfileName</th>\n",
       "      <th>HelpfulnessNumerator</th>\n",
       "      <th>HelpfulnessDenominator</th>\n",
       "      <th>Score</th>\n",
       "      <th>Time</th>\n",
       "      <th>Summary</th>\n",
       "      <th>Text</th>\n",
       "    </tr>\n",
       "  </thead>\n",
       "  <tbody>\n",
       "    <tr>\n",
       "      <td>0</td>\n",
       "      <td>64422</td>\n",
       "      <td>B000MIDROQ</td>\n",
       "      <td>A161DK06JJMCYF</td>\n",
       "      <td>J. E. Stephens \"Jeanne\"</td>\n",
       "      <td>3</td>\n",
       "      <td>1</td>\n",
       "      <td>5</td>\n",
       "      <td>1224892800</td>\n",
       "      <td>Bought This for My Son at College</td>\n",
       "      <td>My son loves spaghetti so I didn't hesitate or...</td>\n",
       "    </tr>\n",
       "    <tr>\n",
       "      <td>1</td>\n",
       "      <td>44737</td>\n",
       "      <td>B001EQ55RW</td>\n",
       "      <td>A2V0I904FH7ABY</td>\n",
       "      <td>Ram</td>\n",
       "      <td>3</td>\n",
       "      <td>2</td>\n",
       "      <td>4</td>\n",
       "      <td>1212883200</td>\n",
       "      <td>Pure cocoa taste with crunchy almonds inside</td>\n",
       "      <td>It was almost a 'love at first bite' - the per...</td>\n",
       "    </tr>\n",
       "  </tbody>\n",
       "</table>\n",
       "</div>"
      ],
      "text/plain": [
       "      Id   ProductId          UserId              ProfileName  \\\n",
       "0  64422  B000MIDROQ  A161DK06JJMCYF  J. E. Stephens \"Jeanne\"   \n",
       "1  44737  B001EQ55RW  A2V0I904FH7ABY                      Ram   \n",
       "\n",
       "   HelpfulnessNumerator  HelpfulnessDenominator  Score        Time  \\\n",
       "0                     3                       1      5  1224892800   \n",
       "1                     3                       2      4  1212883200   \n",
       "\n",
       "                                        Summary  \\\n",
       "0             Bought This for My Son at College   \n",
       "1  Pure cocoa taste with crunchy almonds inside   \n",
       "\n",
       "                                                Text  \n",
       "0  My son loves spaghetti so I didn't hesitate or...  \n",
       "1  It was almost a 'love at first bite' - the per...  "
      ]
     },
     "execution_count": 12,
     "metadata": {},
     "output_type": "execute_result"
    }
   ],
   "source": [
    "display= pd.read_sql_query(\"\"\"\n",
    "SELECT *\n",
    "FROM Reviews\n",
    "WHERE Score != 3 AND Id=44737 OR Id=64422\n",
    "ORDER BY ProductID\n",
    "\"\"\", con)\n",
    "\n",
    "display.head()"
   ]
  },
  {
   "cell_type": "code",
   "execution_count": 13,
   "metadata": {},
   "outputs": [],
   "source": [
    "final=final[final.HelpfulnessNumerator<=final.HelpfulnessDenominator]"
   ]
  },
  {
   "cell_type": "code",
   "execution_count": 14,
   "metadata": {},
   "outputs": [
    {
     "name": "stdout",
     "output_type": "stream",
     "text": [
      "(46071, 10)\n"
     ]
    },
    {
     "data": {
      "text/plain": [
       "1    38479\n",
       "0     7592\n",
       "Name: Score, dtype: int64"
      ]
     },
     "execution_count": 14,
     "metadata": {},
     "output_type": "execute_result"
    }
   ],
   "source": [
    "#Before starting the next phase of preprocessing lets see the number of entries left\n",
    "print(final.shape)\n",
    "\n",
    "#How many positive and negative reviews are present in our dataset?\n",
    "final['Score'].value_counts()"
   ]
  },
  {
   "cell_type": "markdown",
   "metadata": {},
   "source": [
    "#  [3] Preprocessing"
   ]
  },
  {
   "cell_type": "markdown",
   "metadata": {},
   "source": [
    "## [3.1].  Preprocessing Review Text\n",
    "\n",
    "Now that we have finished deduplication our data requires some preprocessing before we go on further with analysis and making the prediction model.\n",
    "\n",
    "Hence in the Preprocessing phase we do the following in the order below:-\n",
    "\n",
    "1. Begin by removing the html tags\n",
    "2. Remove any punctuations or limited set of special characters like , or . or # etc.\n",
    "3. Check if the word is made up of english letters and is not alpha-numeric\n",
    "4. Check to see if the length of the word is greater than 2 (as it was researched that there is no adjective in 2-letters)\n",
    "5. Convert the word to lowercase\n",
    "6. Remove Stopwords\n",
    "7. Finally Snowball Stemming the word (it was obsereved to be better than Porter Stemming)<br>\n",
    "\n",
    "After which we collect the words used to describe positive and negative reviews"
   ]
  },
  {
   "cell_type": "code",
   "execution_count": 15,
   "metadata": {},
   "outputs": [
    {
     "name": "stdout",
     "output_type": "stream",
     "text": [
      "My dogs loves this chicken but its a product from China, so we wont be buying it anymore.  Its very hard to find any chicken products made in the USA but they are out there, but this one isnt.  Its too bad too because its a good product but I wont take any chances till they know what is going on with the china imports.\n",
      "==================================================\n",
      "this is yummy, easy and unusual. it makes a quick, delicous pie, crisp or cobbler. home made is better, but a heck of a lot more work. this is great to have on hand for last minute dessert needs where you really want to impress wih your creativity in cooking! recommended.\n",
      "==================================================\n",
      "Great flavor, low in calories, high in nutrients, high in protein! Usually protein powders are high priced and high in calories, this one is a great bargain and tastes great, I highly recommend for the lady gym rats, probably not \"macho\" enough for guys since it is soy based...\n",
      "==================================================\n",
      "For those of you wanting a high-quality, yet affordable green tea, you should definitely give this one a try. Let me first start by saying that everyone is looking for something different for their ideal tea, and I will attempt to briefly highlight what makes this tea attractive to a wide range of tea drinkers (whether you are a beginner or long-time tea enthusiast).  I have gone through over 12 boxes of this tea myself, and highly recommend it for the following reasons:<br /><br />-Quality:  First, this tea offers a smooth quality without any harsh or bitter after tones, which often turns people off from many green teas.  I've found my ideal brewing time to be between 3-5 minutes, giving you a light but flavorful cup of tea.  However, if you get distracted or forget about your tea and leave it brewing for 20+ minutes like I sometimes do, the quality of this tea is such that you still get a smooth but deeper flavor without the bad after taste.  The leaves themselves are whole leaves (not powdered stems, branches, etc commonly found in other brands), and the high-quality nylon bags also include chunks of tropical fruit and other discernible ingredients.  This isn't your standard cheap paper bag with a mix of unknown ingredients that have been ground down to a fine powder, leaving you to wonder what it is you are actually drinking.<br /><br />-Taste:  This tea offers notes of real pineapple and other hints of tropical fruits, yet isn't sweet or artificially flavored.  You have the foundation of a high-quality young hyson green tea for those true \"tea flavor\" lovers, yet the subtle hints of fruit make this a truly unique tea that I believe most will enjoy.  If you want it sweet, you can add sugar, splenda, etc but this really is not necessary as this tea offers an inherent warmth of flavor through it's ingredients.<br /><br />-Price:  This tea offers an excellent product at an exceptional price (especially when purchased at the prices Amazon offers).  Compared to other brands which I believe to be of similar quality (Mighty Leaf, Rishi, Two Leaves, etc.), Revolution offers a superior product at an outstanding price.  I have been purchasing this through Amazon for less per box than I would be paying at my local grocery store for Lipton, etc.<br /><br />Overall, this is a wonderful tea that is comparable, and even better than, other teas that are priced much higher.  It offers a well-balanced cup of green tea that I believe many will enjoy.  In terms of taste, quality, and price, I would argue you won't find a better combination that that offered by Revolution's Tropical Green Tea.\n",
      "==================================================\n"
     ]
    }
   ],
   "source": [
    "# printing some random reviews\n",
    "sent_0 = final['Text'].values[0]\n",
    "print(sent_0)\n",
    "print(\"=\"*50)\n",
    "\n",
    "sent_1000 = final['Text'].values[1000]\n",
    "print(sent_1000)\n",
    "print(\"=\"*50)\n",
    "\n",
    "sent_1500 = final['Text'].values[1500]\n",
    "print(sent_1500)\n",
    "print(\"=\"*50)\n",
    "\n",
    "sent_4900 = final['Text'].values[4900]\n",
    "print(sent_4900)\n",
    "print(\"=\"*50)"
   ]
  },
  {
   "cell_type": "code",
   "execution_count": 16,
   "metadata": {},
   "outputs": [
    {
     "name": "stdout",
     "output_type": "stream",
     "text": [
      "My dogs loves this chicken but its a product from China, so we wont be buying it anymore.  Its very hard to find any chicken products made in the USA but they are out there, but this one isnt.  Its too bad too because its a good product but I wont take any chances till they know what is going on with the china imports.\n"
     ]
    }
   ],
   "source": [
    "# remove urls from text python: https://stackoverflow.com/a/40823105/4084039\n",
    "sent_0 = re.sub(r\"http\\S+\", \"\", sent_0)\n",
    "sent_1000 = re.sub(r\"http\\S+\", \"\", sent_1000)\n",
    "sent_150 = re.sub(r\"http\\S+\", \"\", sent_1500)\n",
    "sent_4900 = re.sub(r\"http\\S+\", \"\", sent_4900)\n",
    "\n",
    "print(sent_0)"
   ]
  },
  {
   "cell_type": "code",
   "execution_count": 17,
   "metadata": {},
   "outputs": [
    {
     "name": "stdout",
     "output_type": "stream",
     "text": [
      "My dogs loves this chicken but its a product from China, so we wont be buying it anymore.  Its very hard to find any chicken products made in the USA but they are out there, but this one isnt.  Its too bad too because its a good product but I wont take any chances till they know what is going on with the china imports.\n",
      "==================================================\n",
      "this is yummy, easy and unusual. it makes a quick, delicous pie, crisp or cobbler. home made is better, but a heck of a lot more work. this is great to have on hand for last minute dessert needs where you really want to impress wih your creativity in cooking! recommended.\n",
      "==================================================\n",
      "Great flavor, low in calories, high in nutrients, high in protein! Usually protein powders are high priced and high in calories, this one is a great bargain and tastes great, I highly recommend for the lady gym rats, probably not \"macho\" enough for guys since it is soy based...\n",
      "==================================================\n",
      "For those of you wanting a high-quality, yet affordable green tea, you should definitely give this one a try. Let me first start by saying that everyone is looking for something different for their ideal tea, and I will attempt to briefly highlight what makes this tea attractive to a wide range of tea drinkers (whether you are a beginner or long-time tea enthusiast).  I have gone through over 12 boxes of this tea myself, and highly recommend it for the following reasons:-Quality:  First, this tea offers a smooth quality without any harsh or bitter after tones, which often turns people off from many green teas.  I've found my ideal brewing time to be between 3-5 minutes, giving you a light but flavorful cup of tea.  However, if you get distracted or forget about your tea and leave it brewing for 20+ minutes like I sometimes do, the quality of this tea is such that you still get a smooth but deeper flavor without the bad after taste.  The leaves themselves are whole leaves (not powdered stems, branches, etc commonly found in other brands), and the high-quality nylon bags also include chunks of tropical fruit and other discernible ingredients.  This isn't your standard cheap paper bag with a mix of unknown ingredients that have been ground down to a fine powder, leaving you to wonder what it is you are actually drinking.-Taste:  This tea offers notes of real pineapple and other hints of tropical fruits, yet isn't sweet or artificially flavored.  You have the foundation of a high-quality young hyson green tea for those true \"tea flavor\" lovers, yet the subtle hints of fruit make this a truly unique tea that I believe most will enjoy.  If you want it sweet, you can add sugar, splenda, etc but this really is not necessary as this tea offers an inherent warmth of flavor through it's ingredients.-Price:  This tea offers an excellent product at an exceptional price (especially when purchased at the prices Amazon offers).  Compared to other brands which I believe to be of similar quality (Mighty Leaf, Rishi, Two Leaves, etc.), Revolution offers a superior product at an outstanding price.  I have been purchasing this through Amazon for less per box than I would be paying at my local grocery store for Lipton, etc.Overall, this is a wonderful tea that is comparable, and even better than, other teas that are priced much higher.  It offers a well-balanced cup of green tea that I believe many will enjoy.  In terms of taste, quality, and price, I would argue you won't find a better combination that that offered by Revolution's Tropical Green Tea.\n"
     ]
    }
   ],
   "source": [
    "# https://stackoverflow.com/questions/16206380/python-beautifulsoup-how-to-remove-all-tags-from-an-element\n",
    "from bs4 import BeautifulSoup\n",
    "\n",
    "soup = BeautifulSoup(sent_0, 'lxml')\n",
    "text = soup.get_text()\n",
    "print(text)\n",
    "print(\"=\"*50)\n",
    "\n",
    "soup = BeautifulSoup(sent_1000, 'lxml')\n",
    "text = soup.get_text()\n",
    "print(text)\n",
    "print(\"=\"*50)\n",
    "\n",
    "soup = BeautifulSoup(sent_1500, 'lxml')\n",
    "text = soup.get_text()\n",
    "print(text)\n",
    "print(\"=\"*50)\n",
    "\n",
    "soup = BeautifulSoup(sent_4900, 'lxml')\n",
    "text = soup.get_text()\n",
    "print(text)"
   ]
  },
  {
   "cell_type": "code",
   "execution_count": 18,
   "metadata": {},
   "outputs": [],
   "source": [
    "# https://stackoverflow.com/a/47091490/4084039\n",
    "import re\n",
    "\n",
    "def decontracted(phrase):\n",
    "    # specific\n",
    "    phrase = re.sub(r\"won't\", \"will not\", phrase)\n",
    "    phrase = re.sub(r\"can\\'t\", \"can not\", phrase)\n",
    "\n",
    "    # general\n",
    "    phrase = re.sub(r\"n\\'t\", \" not\", phrase)\n",
    "    phrase = re.sub(r\"\\'re\", \" are\", phrase)\n",
    "    phrase = re.sub(r\"\\'s\", \" is\", phrase)\n",
    "    phrase = re.sub(r\"\\'d\", \" would\", phrase)\n",
    "    phrase = re.sub(r\"\\'ll\", \" will\", phrase)\n",
    "    phrase = re.sub(r\"\\'t\", \" not\", phrase)\n",
    "    phrase = re.sub(r\"\\'ve\", \" have\", phrase)\n",
    "    phrase = re.sub(r\"\\'m\", \" am\", phrase)\n",
    "    return phrase"
   ]
  },
  {
   "cell_type": "code",
   "execution_count": 19,
   "metadata": {},
   "outputs": [
    {
     "name": "stdout",
     "output_type": "stream",
     "text": [
      "Great flavor, low in calories, high in nutrients, high in protein! Usually protein powders are high priced and high in calories, this one is a great bargain and tastes great, I highly recommend for the lady gym rats, probably not \"macho\" enough for guys since it is soy based...\n",
      "==================================================\n"
     ]
    }
   ],
   "source": [
    "sent_1500 = decontracted(sent_1500)\n",
    "print(sent_1500)\n",
    "print(\"=\"*50)"
   ]
  },
  {
   "cell_type": "code",
   "execution_count": 20,
   "metadata": {},
   "outputs": [
    {
     "name": "stdout",
     "output_type": "stream",
     "text": [
      "My dogs loves this chicken but its a product from China, so we wont be buying it anymore.  Its very hard to find any chicken products made in the USA but they are out there, but this one isnt.  Its too bad too because its a good product but I wont take any chances till they know what is going on with the china imports.\n"
     ]
    }
   ],
   "source": [
    "#remove words with numbers python: https://stackoverflow.com/a/18082370/4084039\n",
    "sent_0 = re.sub(\"\\S*\\d\\S*\", \"\", sent_0).strip()\n",
    "print(sent_0)"
   ]
  },
  {
   "cell_type": "code",
   "execution_count": 21,
   "metadata": {},
   "outputs": [
    {
     "name": "stdout",
     "output_type": "stream",
     "text": [
      "Great flavor low in calories high in nutrients high in protein Usually protein powders are high priced and high in calories this one is a great bargain and tastes great I highly recommend for the lady gym rats probably not macho enough for guys since it is soy based \n"
     ]
    }
   ],
   "source": [
    "#remove spacial character: https://stackoverflow.com/a/5843547/4084039\n",
    "sent_1500 = re.sub('[^A-Za-z0-9]+', ' ', sent_1500)\n",
    "print(sent_1500)"
   ]
  },
  {
   "cell_type": "code",
   "execution_count": 22,
   "metadata": {},
   "outputs": [],
   "source": [
    "# https://gist.github.com/sebleier/554280\n",
    "# we are removing the words from the stop words list: 'no', 'nor', 'not'\n",
    "# <br /><br /> ==> after the above steps, we are getting \"br br\"\n",
    "# we are including them into stop words list\n",
    "# instead of <br /> if we have <br/> these tags would have revmoved in the 1st step\n",
    "\n",
    "stopwords= set(['br', 'the', 'i', 'me', 'my', 'myself', 'we', 'our', 'ours', 'ourselves', 'you', \"you're\", \"you've\",\\\n",
    "            \"you'll\", \"you'd\", 'your', 'yours', 'yourself', 'yourselves', 'he', 'him', 'his', 'himself', \\\n",
    "            'she', \"she's\", 'her', 'hers', 'herself', 'it', \"it's\", 'its', 'itself', 'they', 'them', 'their',\\\n",
    "            'theirs', 'themselves', 'what', 'which', 'who', 'whom', 'this', 'that', \"that'll\", 'these', 'those', \\\n",
    "            'am', 'is', 'are', 'was', 'were', 'be', 'been', 'being', 'have', 'has', 'had', 'having', 'do', 'does', \\\n",
    "            'did', 'doing', 'a', 'an', 'the', 'and', 'but', 'if', 'or', 'because', 'as', 'until', 'while', 'of', \\\n",
    "            'at', 'by', 'for', 'with', 'about', 'against', 'between', 'into', 'through', 'during', 'before', 'after',\\\n",
    "            'above', 'below', 'to', 'from', 'up', 'down', 'in', 'out', 'on', 'off', 'over', 'under', 'again', 'further',\\\n",
    "            'then', 'once', 'here', 'there', 'when', 'where', 'why', 'how', 'all', 'any', 'both', 'each', 'few', 'more',\\\n",
    "            'most', 'other', 'some', 'such', 'only', 'own', 'same', 'so', 'than', 'too', 'very', \\\n",
    "            's', 't', 'can', 'will', 'just', 'don', \"don't\", 'should', \"should've\", 'now', 'd', 'll', 'm', 'o', 're', \\\n",
    "            've', 'y', 'ain', 'aren', \"aren't\", 'couldn', \"couldn't\", 'didn', \"didn't\", 'doesn', \"doesn't\", 'hadn',\\\n",
    "            \"hadn't\", 'hasn', \"hasn't\", 'haven', \"haven't\", 'isn', \"isn't\", 'ma', 'mightn', \"mightn't\", 'mustn',\\\n",
    "            \"mustn't\", 'needn', \"needn't\", 'shan', \"shan't\", 'shouldn', \"shouldn't\", 'wasn', \"wasn't\", 'weren', \"weren't\", \\\n",
    "            'won', \"won't\", 'wouldn', \"wouldn't\"])"
   ]
  },
  {
   "cell_type": "code",
   "execution_count": 23,
   "metadata": {},
   "outputs": [
    {
     "name": "stderr",
     "output_type": "stream",
     "text": [
      "100%|██████████████████████████████████████████████████████████████████████████| 46071/46071 [00:24<00:00, 1912.33it/s]\n"
     ]
    }
   ],
   "source": [
    "# Combining all the above stundents \n",
    "from tqdm import tqdm\n",
    "preprocessed_reviews = []\n",
    "# tqdm is for printing the status bar\n",
    "for sentance in tqdm(final['Text'].values):\n",
    "    sentance = re.sub(r\"http\\S+\", \"\", sentance)\n",
    "    sentance = BeautifulSoup(sentance, 'lxml').get_text()\n",
    "    sentance = decontracted(sentance)\n",
    "    sentance = re.sub(\"\\S*\\d\\S*\", \"\", sentance).strip()\n",
    "    sentance = re.sub('[^A-Za-z]+', ' ', sentance)\n",
    "    # https://gist.github.com/sebleier/554280\n",
    "    sentance = ' '.join(e.lower() for e in sentance.split() if e.lower() not in stopwords)\n",
    "    preprocessed_reviews.append(sentance.strip())"
   ]
  },
  {
   "cell_type": "code",
   "execution_count": 24,
   "metadata": {},
   "outputs": [
    {
     "data": {
      "text/plain": [
       "'great flavor low calories high nutrients high protein usually protein powders high priced high calories one great bargain tastes great highly recommend lady gym rats probably not macho enough guys since soy based'"
      ]
     },
     "execution_count": 24,
     "metadata": {},
     "output_type": "execute_result"
    }
   ],
   "source": [
    "preprocessed_reviews[1500]"
   ]
  },
  {
   "cell_type": "markdown",
   "metadata": {},
   "source": [
    "<h2><font color='red'>[3.2] Preprocessing Review Summary</font></h2>"
   ]
  },
  {
   "cell_type": "code",
   "execution_count": 25,
   "metadata": {},
   "outputs": [
    {
     "name": "stderr",
     "output_type": "stream",
     "text": [
      "100%|██████████████████████████████████████████████████████████████████████████| 46071/46071 [00:18<00:00, 2516.09it/s]\n"
     ]
    }
   ],
   "source": [
    "## Similartly you can do preprocessing for review summary also.\n",
    "\n",
    "preprocessed_summary = []\n",
    "# tqdm is for printing the status bar\n",
    "for sentance in tqdm(final['Summary'].values):\n",
    "    sentance = re.sub(r\"http\\S+\", \"\", sentance)\n",
    "    sentance = BeautifulSoup(sentance, 'lxml').get_text()\n",
    "    sentance = decontracted(sentance)\n",
    "    sentance = re.sub(\"\\S*\\d\\S*\", \"\", sentance).strip()\n",
    "    sentance = re.sub('[^A-Za-z]+', ' ', sentance)\n",
    "    # https://gist.github.com/sebleier/554280\n",
    "    sentance = ' '.join(e.lower() for e in sentance.split() if e.lower() not in stopwords)\n",
    "    preprocessed_summary.append(sentance.strip())"
   ]
  },
  {
   "cell_type": "code",
   "execution_count": 26,
   "metadata": {},
   "outputs": [],
   "source": [
    "#Splitting the data into train,CV and test\n",
    "\n",
    "from sklearn.model_selection import train_test_split\n",
    "\n",
    "X_train,X_test,y_train,y_test = train_test_split(preprocessed_reviews,final['Score'],random_state=100,test_size=0.30,shuffle=False)\n",
    "\n",
    "X_train,X_CV,y_train,y_CV = train_test_split(X_train,y_train,random_state=100,test_size=0.30,shuffle=False)"
   ]
  },
  {
   "cell_type": "markdown",
   "metadata": {},
   "source": [
    "# [4] Featurization"
   ]
  },
  {
   "cell_type": "markdown",
   "metadata": {},
   "source": [
    "## [4.1] BAG OF WORDS"
   ]
  },
  {
   "cell_type": "code",
   "execution_count": 28,
   "metadata": {},
   "outputs": [
    {
     "name": "stdout",
     "output_type": "stream",
     "text": [
      "some feature names  ['aa', 'aaaa', 'aaaaaaaaaaaa', 'aaaaaaaaaaaaaaa', 'aaaaah', 'aaaand', 'aachen', 'aadp', 'aafco', 'aahs']\n",
      "==================================================\n",
      "the type of count vectorizer  <class 'scipy.sparse.csr.csr_matrix'>\n",
      "the shape of out text BOW vectorizer  (22574, 28163)\n",
      "the number of unique words  28163\n"
     ]
    }
   ],
   "source": [
    "#BoW\n",
    "count_vect = CountVectorizer() #in scikit-learn\n",
    "count_vect.fit(X_train)\n",
    "print(\"some feature names \", count_vect.get_feature_names()[:10])\n",
    "print('='*50)\n",
    "\n",
    "bow_features = count_vect.get_feature_names()\n",
    "\n",
    "\n",
    "#Vectorizing the train2 (splitted from X_train to be used with CV data)\n",
    "final_countsTrain = count_vect.transform(X_train)\n",
    "\n",
    "print(\"the type of count vectorizer \",type(final_countsTrain))\n",
    "print(\"the shape of out text BOW vectorizer \",final_countsTrain.get_shape())\n",
    "print(\"the number of unique words \", final_countsTrain.get_shape()[1])\n",
    "\n",
    "#Vectorizing the CV data\n",
    "final_countsCV = count_vect.transform(X_CV)\n",
    "\n",
    "#Vectorizing the test data\n",
    "\n",
    "final_countsTEST = count_vect.transform(X_test)"
   ]
  },
  {
   "cell_type": "markdown",
   "metadata": {},
   "source": [
    "## [4.2] Bi-Grams and n-Grams."
   ]
  },
  {
   "cell_type": "code",
   "execution_count": 29,
   "metadata": {},
   "outputs": [
    {
     "name": "stdout",
     "output_type": "stream",
     "text": [
      "some feature names  ['able buy', 'able eat', 'able find', 'able get', 'able make', 'able order', 'able purchase', 'able use', 'absolute best', 'absolute favorite']\n",
      "the type of count vectorizer  <class 'scipy.sparse.csr.csr_matrix'>\n",
      "the shape of out text BOW vectorizer  (22574, 5000)\n",
      "the number of unique words including both unigrams and bigrams  5000\n"
     ]
    }
   ],
   "source": [
    "#bi-gram, tri-gram and n-gram\n",
    "\n",
    "#removing stop words like \"not\" should be avoided before building n-grams\n",
    "# count_vect = CountVectorizer(ngram_range=(1,2))\n",
    "# please do read the CountVectorizer documentation http://scikit-learn.org/stable/modules/generated/sklearn.feature_extraction.text.CountVectorizer.html\n",
    "\n",
    "# you can choose these numebrs min_df=10, max_features=5000, of your choice\n",
    "count_vect_bi = CountVectorizer(ngram_range=(2,2), min_df=10, max_features=5000)\n",
    "count_vect_bi.fit(X_train)\n",
    "features_bigrams = count_vect_bi.get_feature_names()\n",
    "print(\"some feature names \",features_bigrams[:10])\n",
    "final_bigram_countsTrain =count_vect_bi.transform(X_train)\n",
    "print(\"the type of count vectorizer \",type(final_bigram_countsTrain))\n",
    "print(\"the shape of out text BOW vectorizer \",final_bigram_countsTrain.get_shape())\n",
    "print(\"the number of unique words including both unigrams and bigrams \", final_bigram_countsTrain.get_shape()[1])\n",
    "\n",
    "#vectorizing train,test and cv data\n",
    "\n",
    "final_bigram_countsCV = count_vect_bi.transform(X_CV)\n",
    "final_bigram_countsTEST = count_vect_bi.transform(X_test)"
   ]
  },
  {
   "cell_type": "markdown",
   "metadata": {},
   "source": [
    "## [4.3] TF-IDF"
   ]
  },
  {
   "cell_type": "code",
   "execution_count": 31,
   "metadata": {},
   "outputs": [
    {
     "name": "stdout",
     "output_type": "stream",
     "text": [
      "some sample features(unique words in the corpus) ['ability', 'able', 'able buy', 'able eat', 'able enjoy', 'able find', 'able get', 'able give', 'able make', 'able order']\n",
      "==================================================\n",
      "the type of count vectorizer  <class 'scipy.sparse.csr.csr_matrix'>\n",
      "the shape of out text TFIDF vectorizer  (22574, 13482)\n",
      "the number of unique words including both unigrams and bigrams  13482\n"
     ]
    }
   ],
   "source": [
    "tf_idf_vect = TfidfVectorizer(ngram_range=(1,2), min_df=10)\n",
    "tf_idf_vect.fit(X_train)\n",
    "print(\"some sample features(unique words in the corpus)\",tf_idf_vect.get_feature_names()[0:10])\n",
    "print('='*50)\n",
    "\n",
    "features_tf_idf = tf_idf_vect.get_feature_names()\n",
    "\n",
    "final_tf_idfTrain = tf_idf_vect.transform(X_train)\n",
    "print(\"the type of count vectorizer \",type(final_tf_idfTrain))\n",
    "print(\"the shape of out text TFIDF vectorizer \",final_tf_idfTrain.get_shape())\n",
    "print(\"the number of unique words including both unigrams and bigrams \", final_tf_idfTrain.get_shape()[1])\n",
    "\n",
    "#vectorizing train,test and cv data\n",
    "\n",
    "final_tf_idfCV = tf_idf_vect.transform(X_CV)\n",
    "final_tf_idfTEST = tf_idf_vect.transform(X_test)"
   ]
  },
  {
   "cell_type": "markdown",
   "metadata": {},
   "source": [
    "## [4.4] Word2Vec"
   ]
  },
  {
   "cell_type": "code",
   "execution_count": 32,
   "metadata": {},
   "outputs": [],
   "source": [
    "from gensim.models import Word2Vec\n",
    "from gensim.models import KeyedVectors"
   ]
  },
  {
   "cell_type": "code",
   "execution_count": 33,
   "metadata": {},
   "outputs": [],
   "source": [
    "# Train your own Word2Vec model using your own text corpus\n",
    "i=0\n",
    "list_of_sentence_train=[]\n",
    "for sentence in X_train:\n",
    "    list_of_sentence_train.append(sentence.split())"
   ]
  },
  {
   "cell_type": "code",
   "execution_count": 34,
   "metadata": {},
   "outputs": [
    {
     "name": "stdout",
     "output_type": "stream",
     "text": [
      "number of words that occured minimum 5 times  9132\n",
      "sample words  ['dogs', 'loves', 'chicken', 'product', 'china', 'wont', 'buying', 'anymore', 'hard', 'find', 'products', 'made', 'usa', 'one', 'isnt', 'bad', 'good', 'take', 'chances', 'till', 'know', 'going', 'imports', 'love', 'saw', 'pet', 'store', 'tag', 'attached', 'regarding', 'satisfied', 'safe', 'available', 'victor', 'traps', 'course', 'total', 'fly', 'pretty', 'stinky', 'right', 'nearby', 'used', 'bait', 'seasons', 'ca', 'not', 'beat', 'great', 'received']\n"
     ]
    }
   ],
   "source": [
    "w2v_model=Word2Vec(list_of_sentence_train,min_count=5,size=50, workers=4)\n",
    "w2v_words = list(w2v_model.wv.vocab)\n",
    "print(\"number of words that occured minimum 5 times \",len(w2v_words))\n",
    "print(\"sample words \", w2v_words[0:50])"
   ]
  },
  {
   "cell_type": "markdown",
   "metadata": {},
   "source": [
    "## [4.4.1] Converting text into vectors using Avg W2V, TFIDF-W2V"
   ]
  },
  {
   "cell_type": "markdown",
   "metadata": {},
   "source": [
    "#### [4.4.1.1] Avg W2v"
   ]
  },
  {
   "cell_type": "code",
   "execution_count": 35,
   "metadata": {},
   "outputs": [
    {
     "name": "stderr",
     "output_type": "stream",
     "text": [
      "100%|███████████████████████████████████████████████████████████████████████████| 22574/22574 [00:51<00:00, 435.06it/s]\n"
     ]
    },
    {
     "name": "stdout",
     "output_type": "stream",
     "text": [
      "(22574, 50)\n",
      "[-8.88219985e-01 -9.06537918e-02 -6.19699605e-01 -2.36832459e-01\n",
      " -8.72784589e-02 -1.68846561e-01  4.22048020e-01 -5.39642683e-03\n",
      " -3.12446889e-01 -2.94469557e-02 -7.83764899e-01 -5.91019116e-01\n",
      " -2.08141938e-03 -2.40403483e-01  5.33716871e-01 -1.15039581e-01\n",
      " -1.89787965e-01 -6.73473643e-02  1.03841222e-01 -4.85563049e-01\n",
      " -4.35968309e-04  6.75633717e-01  1.94021858e-02 -1.09338734e-01\n",
      "  5.66636670e-01  1.27450084e-02  1.63241650e-01  4.75247610e-02\n",
      " -5.93577929e-01  8.41191786e-01  2.22453073e-01 -6.34061621e-01\n",
      "  6.91271293e-02  8.90436486e-01  2.78406471e-01 -3.47385919e-01\n",
      "  6.98066703e-01  4.12580894e-01  3.22900352e-01  1.59806317e-01\n",
      " -6.08314558e-02  4.76807561e-01  5.64463630e-02  1.40302916e-01\n",
      " -3.49719270e-01 -1.86310415e-01  9.44260647e-01 -3.19712829e-01\n",
      "  3.13435504e-01 -4.04254628e-01]\n"
     ]
    }
   ],
   "source": [
    "# average Word2Vec\n",
    "# compute average word2vec for each review.\n",
    "sent_vectors_train = []; # the avg-w2v for each sentence/review is stored in this list\n",
    "for sent in tqdm(list_of_sentence_train): # for each review/sentence\n",
    "    sent_vec = np.zeros(50) # as word vectors are of zero length 50, you might need to change this to 300 if you use google's w2v\n",
    "    cnt_words =0; # num of words with a valid vector in the sentence/review\n",
    "    for word in sent: # for each word in a review/sentence\n",
    "        if word in w2v_words:\n",
    "            vec = w2v_model.wv[word]\n",
    "            sent_vec += vec\n",
    "            cnt_words += 1\n",
    "    if cnt_words != 0:\n",
    "        sent_vec /= cnt_words\n",
    "    sent_vectors_train.append(sent_vec)\n",
    "sent_vectors_train = np.array(sent_vectors_train)\n",
    "print(sent_vectors_train.shape)\n",
    "print(sent_vectors_train[0])"
   ]
  },
  {
   "cell_type": "markdown",
   "metadata": {},
   "source": [
    "# Converting CV data text"
   ]
  },
  {
   "cell_type": "code",
   "execution_count": 36,
   "metadata": {},
   "outputs": [
    {
     "name": "stderr",
     "output_type": "stream",
     "text": [
      "100%|█████████████████████████████████████████████████████████████████████████████| 9675/9675 [00:22<00:00, 426.80it/s]\n"
     ]
    },
    {
     "name": "stdout",
     "output_type": "stream",
     "text": [
      "(9675, 50)\n",
      "[-0.70435962 -0.41073897 -0.10249563 -0.0748038   0.09513855 -0.2221361\n",
      "  0.35941927  0.06549072 -0.28221424 -0.37240176 -0.59891916 -0.38693641\n",
      "  0.36669677  0.23472719  0.04694488 -0.29609927 -0.54791373 -0.34427402\n",
      "  0.03009578 -0.28684861  0.08545417  0.4322006  -0.11831428  0.10695309\n",
      "  0.43110294  0.0730674   0.3162384  -0.14684783 -0.32345568  0.32603478\n",
      "  0.19155195 -0.47837337  0.0653507   0.61374444 -0.16835252  0.33197653\n",
      "  0.54281959  0.85965416 -0.00215053  0.26344864 -0.01183584  0.69565349\n",
      "  0.00537975 -0.1762105   0.32773812 -0.17181269  0.6727881   0.30125743\n",
      "  0.07395895 -0.48431421]\n"
     ]
    }
   ],
   "source": [
    "i=0\n",
    "list_of_sentence_cv=[]\n",
    "for sentence in X_CV:\n",
    "    list_of_sentence_cv.append(sentence.split())\n",
    "\n",
    "# average Word2Vec\n",
    "# compute average word2vec for each review.\n",
    "sent_vectors_cv = []; # the avg-w2v for each sentence/review is stored in this list\n",
    "for sent in tqdm(list_of_sentence_cv): # for each review/sentence\n",
    "    sent_vec = np.zeros(50) # as word vectors are of zero length 50, you might need to change this to 300 if you use google's w2v\n",
    "    cnt_words =0; # num of words with a valid vector in the sentence/review\n",
    "    for word in sent: # for each word in a review/sentence\n",
    "        if word in w2v_words:\n",
    "            vec = w2v_model.wv[word]\n",
    "            sent_vec += vec\n",
    "            cnt_words += 1\n",
    "    if cnt_words != 0:\n",
    "        sent_vec /= cnt_words\n",
    "    sent_vectors_cv.append(sent_vec)\n",
    "sent_vectors_cv = np.array(sent_vectors_cv)\n",
    "print(sent_vectors_cv.shape)\n",
    "print(sent_vectors_cv[0])"
   ]
  },
  {
   "cell_type": "markdown",
   "metadata": {},
   "source": [
    "# Converting Test data text"
   ]
  },
  {
   "cell_type": "code",
   "execution_count": 37,
   "metadata": {},
   "outputs": [
    {
     "name": "stderr",
     "output_type": "stream",
     "text": [
      "100%|███████████████████████████████████████████████████████████████████████████| 13822/13822 [00:35<00:00, 386.24it/s]\n"
     ]
    },
    {
     "name": "stdout",
     "output_type": "stream",
     "text": [
      "(13822, 50)\n",
      "[-0.65017897 -0.63212587 -0.15305904  0.03568011  0.10466212 -0.23950663\n",
      "  0.76943525  0.42420405 -0.40346729 -0.16938516 -0.69229939 -0.60495582\n",
      "  0.57696896  0.13827783  0.1562935  -0.21380404 -0.66658193 -0.32273315\n",
      "  0.31751284 -0.23618277 -0.00339066  0.46334811  0.04383541  0.02246084\n",
      "  0.30989658 -0.10550781 -0.01047644  0.01821507 -0.90200098  0.2492353\n",
      " -0.25001642 -0.49869349  0.45043148  0.47941526 -0.18050232  0.17473882\n",
      "  0.46894529  0.71702934 -0.34298244  0.3016499  -0.03789215  0.47847374\n",
      " -0.0502595  -0.21034134  0.24428299 -0.16878238  0.80420284  0.07044499\n",
      "  0.00464202 -0.48350681]\n"
     ]
    }
   ],
   "source": [
    "i=0\n",
    "list_of_sentence_test=[]\n",
    "for sentence in X_test:\n",
    "    list_of_sentence_test.append(sentence.split())\n",
    "\n",
    "# average Word2Vec\n",
    "# compute average word2vec for each review.\n",
    "sent_vectors_test = []; # the avg-w2v for each sentence/review is stored in this list\n",
    "for sent in tqdm(list_of_sentence_test): # for each review/sentence\n",
    "    sent_vec = np.zeros(50) # as word vectors are of zero length 50, you might need to change this to 300 if you use google's w2v\n",
    "    cnt_words =0; # num of words with a valid vector in the sentence/review\n",
    "    for word in sent: # for each word in a review/sentence\n",
    "        if word in w2v_words:\n",
    "            vec = w2v_model.wv[word]\n",
    "            sent_vec += vec\n",
    "            cnt_words += 1\n",
    "    if cnt_words != 0:\n",
    "        sent_vec /= cnt_words\n",
    "    sent_vectors_test.append(sent_vec)\n",
    "sent_vectors_test = np.array(sent_vectors_test)\n",
    "print(sent_vectors_test.shape)\n",
    "print(sent_vectors_test[0])"
   ]
  },
  {
   "cell_type": "markdown",
   "metadata": {},
   "source": [
    "#### [4.4.1.2] TFIDF weighted W2v"
   ]
  },
  {
   "cell_type": "code",
   "execution_count": 38,
   "metadata": {},
   "outputs": [],
   "source": [
    "# S = [\"abc def pqr\", \"def def def abc\", \"pqr pqr def\"]\n",
    "model_tf = TfidfVectorizer()\n",
    "tf_idf_matrix = model_tf.fit_transform(X_train)\n",
    "# we are converting a dictionary with word as a key, and the idf as a value\n",
    "dictionary = dict(zip(model_tf.get_feature_names(), list(model_tf.idf_)))"
   ]
  },
  {
   "cell_type": "markdown",
   "metadata": {},
   "source": [
    "### TFIDF W2V vectorization of  train data"
   ]
  },
  {
   "cell_type": "code",
   "execution_count": 39,
   "metadata": {
    "scrolled": true
   },
   "outputs": [
    {
     "name": "stderr",
     "output_type": "stream",
     "text": [
      "100%|████████████████████████████████████████████████████████████████████████████| 22574/22574 [06:05<00:00, 61.78it/s]\n"
     ]
    }
   ],
   "source": [
    "# TF-IDF weighted Word2Vec\n",
    "tfidf_feat = model_tf.get_feature_names() # tfidf words/col-names\n",
    "# final_tf_idf is the sparse matrix with row= sentence, col=word and cell_val = tfidf\n",
    "\n",
    "tfidf_sent_vectors_train = []; # the tfidf-w2v for each sentence/review is stored in this list\n",
    "row=0;\n",
    "for sent in tqdm(list_of_sentence_train): # for each review/sentence \n",
    "    sent_vec = np.zeros(50) # as word vectors are of zero length\n",
    "    weight_sum =0; # num of words with a valid vector in the sentence/review\n",
    "    for word in sent: # for each word in a review/sentence\n",
    "        if word in w2v_words and word in tfidf_feat:\n",
    "            vec = w2v_model.wv[word]\n",
    "#             tf_idf = tf_idf_matrix[row, tfidf_feat.index(word)]\n",
    "            # to reduce the computation we are \n",
    "            # dictionary[word] = idf value of word in whole courpus\n",
    "            # sent.count(word) = tf valeus of word in this review\n",
    "            tf_idf = dictionary[word]*(sent.count(word)/len(sent))\n",
    "            sent_vec += (vec * tf_idf)\n",
    "            weight_sum += tf_idf\n",
    "    if weight_sum != 0:\n",
    "        sent_vec /= weight_sum\n",
    "    tfidf_sent_vectors_train.append(sent_vec)\n",
    "    row += 1"
   ]
  },
  {
   "cell_type": "markdown",
   "metadata": {},
   "source": [
    "# TFIDF W2V vectorization of  CV data"
   ]
  },
  {
   "cell_type": "code",
   "execution_count": 40,
   "metadata": {},
   "outputs": [
    {
     "name": "stderr",
     "output_type": "stream",
     "text": [
      "100%|██████████████████████████████████████████████████████████████████████████████| 9675/9675 [02:37<00:00, 61.26it/s]\n"
     ]
    }
   ],
   "source": [
    "\n",
    "tfidf_sent_vectors_CV = []; # the tfidf-w2v for each sentence/review is stored in this list\n",
    "row=0;\n",
    "for sent in tqdm(list_of_sentence_cv): # for each review/sentence \n",
    "    sent_vec = np.zeros(50) # as word vectors are of zero length\n",
    "    weight_sum =0; # num of words with a valid vector in the sentence/review\n",
    "    for word in sent: # for each word in a review/sentence\n",
    "        if word in w2v_words and word in tfidf_feat:\n",
    "            vec = w2v_model.wv[word]\n",
    "#             tf_idf = tf_idf_matrix[row, tfidf_feat.index(word)]\n",
    "            # to reduce the computation we are \n",
    "            # dictionary[word] = idf value of word in whole courpus\n",
    "            # sent.count(word) = tf valeus of word in this review\n",
    "            tf_idf = dictionary[word]*(sent.count(word)/len(sent))\n",
    "            sent_vec += (vec * tf_idf)\n",
    "            weight_sum += tf_idf\n",
    "    if weight_sum != 0:\n",
    "        sent_vec /= weight_sum\n",
    "    tfidf_sent_vectors_CV.append(sent_vec)\n",
    "    row += 1"
   ]
  },
  {
   "cell_type": "markdown",
   "metadata": {},
   "source": [
    "# TFIDF W2V vectorization of  test data"
   ]
  },
  {
   "cell_type": "code",
   "execution_count": 41,
   "metadata": {},
   "outputs": [
    {
     "name": "stderr",
     "output_type": "stream",
     "text": [
      "100%|████████████████████████████████████████████████████████████████████████████| 13822/13822 [03:55<00:00, 58.69it/s]\n"
     ]
    }
   ],
   "source": [
    "tfidf_sent_vectors_test = []; # the tfidf-w2v for each sentence/review is stored in this list\n",
    "row=0;\n",
    "for sent in tqdm(list_of_sentence_test): # for each review/sentence \n",
    "    sent_vec = np.zeros(50) # as word vectors are of zero length\n",
    "    weight_sum =0; # num of words with a valid vector in the sentence/review\n",
    "    for word in sent: # for each word in a review/sentence\n",
    "        if word in w2v_words and word in tfidf_feat:\n",
    "            vec = w2v_model.wv[word]\n",
    "#             tf_idf = tf_idf_matrix[row, tfidf_feat.index(word)]\n",
    "            # to reduce the computation we are \n",
    "            # dictionary[word] = idf value of word in whole courpus\n",
    "            # sent.count(word) = tf valeus of word in this review\n",
    "            tf_idf = dictionary[word]*(sent.count(word)/len(sent))\n",
    "            sent_vec += (vec * tf_idf)\n",
    "            weight_sum += tf_idf\n",
    "    if weight_sum != 0:\n",
    "        sent_vec /= weight_sum\n",
    "    tfidf_sent_vectors_test.append(sent_vec)\n",
    "    row += 1"
   ]
  },
  {
   "cell_type": "code",
   "execution_count": 42,
   "metadata": {},
   "outputs": [],
   "source": [
    "tfidf_sent_vectors_train = np.array(tfidf_sent_vectors_train)\n",
    "tfidf_sent_vectors_CV = np.array(tfidf_sent_vectors_CV)\n",
    "tfidf_sent_vectors_test = np.array(tfidf_sent_vectors_test)"
   ]
  },
  {
   "cell_type": "markdown",
   "metadata": {},
   "source": [
    "# [5] Assignment 3: KNN"
   ]
  },
  {
   "cell_type": "markdown",
   "metadata": {},
   "source": [
    "<ol>\n",
    "    <li><strong>Apply Knn(brute force version) on these feature sets</strong>\n",
    "        <ul>\n",
    "            <li><font color='red'>SET 1:</font>Review text, preprocessed one converted into vectors using (BOW)</li>\n",
    "            <li><font color='red'>SET 2:</font>Review text, preprocessed one converted into vectors using (TFIDF)</li>\n",
    "            <li><font color='red'>SET 3:</font>Review text, preprocessed one converted into vectors using (AVG W2v)</li>\n",
    "            <li><font color='red'>SET 4:</font>Review text, preprocessed one converted into vectors using (TFIDF W2v)</li>\n",
    "        </ul>\n",
    "    </li>\n",
    "    <br>\n",
    "    <li><strong>Apply Knn(kd tree version) on these feature sets</strong>\n",
    "        <br><font color='red'>NOTE: </font>sklearn implementation of kd-tree accepts only dense matrices, you need to convert the sparse matrices of CountVectorizer/TfidfVectorizer into dense matices. You can convert sparse matrices to dense using .toarray() attribute. For more information please visit this <a href='https://docs.scipy.org/doc/scipy-0.18.1/reference/generated/scipy.sparse.csr_matrix.toarray.html'>link</a>\n",
    "        <ul>\n",
    "            <li><font color='red'>SET 5:</font>Review text, preprocessed one converted into vectors using (BOW) but with restriction on maximum features generated.\n",
    "            <pre>\n",
    "            count_vect = CountVectorizer(min_df=10, max_features=500) \n",
    "            count_vect.fit(preprocessed_reviews)\n",
    "            </pre>\n",
    "            </li>\n",
    "            <li><font color='red'>SET 6:</font>Review text, preprocessed one converted into vectors using (TFIDF) but with restriction on maximum features generated.\n",
    "            <pre>\n",
    "                tf_idf_vect = TfidfVectorizer(min_df=10, max_features=500)\n",
    "                tf_idf_vect.fit(preprocessed_reviews)\n",
    "            </pre>\n",
    "            </li>\n",
    "            <li><font color='red'>SET 3:</font>Review text, preprocessed one converted into vectors using (AVG W2v)</li>\n",
    "            <li><font color='red'>SET 4:</font>Review text, preprocessed one converted into vectors using (TFIDF W2v)</li>\n",
    "        </ul>\n",
    "    </li>\n",
    "    <br>\n",
    "    <li><strong>The hyper paramter tuning(find best K)</strong>\n",
    "        <ul>\n",
    "    <li>Find the best hyper parameter which will give the maximum <a href='https://www.appliedaicourse.com/course/applied-ai-course-online/lessons/receiver-operating-characteristic-curve-roc-curve-and-auc-1/'>AUC</a> value</li>\n",
    "    <li>Find the best hyper paramter using k-fold cross validation or simple cross validation data</li>\n",
    "    <li>Use gridsearch cv or randomsearch cv or you can also write your own for loops to do this task of hyperparameter tuning</li>\n",
    "        </ul>\n",
    "    </li>\n",
    "    <br>\n",
    "    <li>\n",
    "    <strong>Representation of results</strong>\n",
    "        <ul>\n",
    "    <li>You need to plot the performance of model both on train data and cross validation data for each hyper parameter, like shown in the figure\n",
    "    <img src='train_cv_auc.JPG' width=300px></li>\n",
    "    <li>Once after you found the best hyper parameter, you need to train your model with it, and find the AUC on test data and plot the ROC curve on both train and test.\n",
    "    <img src='train_test_auc.JPG' width=300px></li>\n",
    "    <li>Along with plotting ROC curve, you need to print the <a href='https://www.appliedaicourse.com/course/applied-ai-course-online/lessons/confusion-matrix-tpr-fpr-fnr-tnr-1/'>confusion matrix</a> with predicted and original labels of test data points\n",
    "    <img src='confusion_matrix.png' width=300px></li>\n",
    "        </ul>\n",
    "    </li>\n",
    "    <br>\n",
    "    <li><strong>Conclusion</strong>\n",
    "        <ul>\n",
    "    <li>You need to summarize the results at the end of the notebook, summarize it in the table format. To print out a table please refer to this prettytable library<a href='http://zetcode.com/python/prettytable/'> link</a> \n",
    "        <img src='summary.JPG' width=400px>\n",
    "    </li>\n",
    "        </ul>\n",
    "</ol>"
   ]
  },
  {
   "cell_type": "markdown",
   "metadata": {},
   "source": [
    "<h4><font color='red'>Note: Data Leakage</font></h4>\n",
    "\n",
    "1. There will be an issue of data-leakage if you vectorize the entire data and then split it into train/cv/test.\n",
    "2. To avoid the issue of data-leakag, make sure to split your data first and then vectorize it. \n",
    "3. While vectorizing your data, apply the method fit_transform() on you train data, and apply the method transform() on cv/test data.\n",
    "4. For more details please go through this <a href='https://soundcloud.com/applied-ai-course/leakage-bow-and-tfidf'>link.</a>"
   ]
  },
  {
   "cell_type": "markdown",
   "metadata": {},
   "source": [
    "## [5.1] Applying KNN brute force"
   ]
  },
  {
   "cell_type": "markdown",
   "metadata": {},
   "source": [
    "### [5.1.1] Applying KNN brute force on BOW,<font color='red'> SET 1</font>"
   ]
  },
  {
   "cell_type": "code",
   "execution_count": 43,
   "metadata": {},
   "outputs": [
    {
     "data": {
      "text/plain": [
       "GridSearchCV(cv=5, error_score='raise-deprecating',\n",
       "             estimator=KNeighborsClassifier(algorithm='auto', leaf_size=30,\n",
       "                                            metric='minkowski',\n",
       "                                            metric_params=None, n_jobs=None,\n",
       "                                            n_neighbors=5, p=2,\n",
       "                                            weights='uniform'),\n",
       "             iid='warn', n_jobs=None,\n",
       "             param_grid={'n_neighbors': [3, 5, 7, 9, 11, 13, 15, 17, 19, 21, 23,\n",
       "                                         25, 27, 29]},\n",
       "             pre_dispatch='2*n_jobs', refit=True, return_train_score=False,\n",
       "             scoring='roc_auc', verbose=0)"
      ]
     },
     "execution_count": 43,
     "metadata": {},
     "output_type": "execute_result"
    }
   ],
   "source": [
    "# Please write all the code with proper documentation\n",
    "\n",
    "from sklearn.neighbors import KNeighborsClassifier\n",
    "from sklearn.model_selection import GridSearchCV\n",
    "                 \n",
    "hyperparameters = {'n_neighbors':list(filter(lambda x : x % 2 != 0 , list(range(2,30))))}\n",
    "\n",
    "knn_brute_bow = GridSearchCV(KNeighborsClassifier(),param_grid=hyperparameters,cv=5,scoring='roc_auc')\n",
    "knn_brute_bow.fit(final_countsTrain,y_train)"
   ]
  },
  {
   "cell_type": "code",
   "execution_count": 44,
   "metadata": {},
   "outputs": [
    {
     "name": "stdout",
     "output_type": "stream",
     "text": [
      "Best Estimator :  KNeighborsClassifier(algorithm='auto', leaf_size=30, metric='minkowski',\n",
      "                     metric_params=None, n_jobs=None, n_neighbors=21, p=2,\n",
      "                     weights='uniform')\n",
      "\n",
      "Classes :  [0 1]\n",
      "\n",
      "Best Score :  0.6402036417134928\n",
      "\n",
      "No of Splits :  5\n",
      "\n",
      "Best params :  {'n_neighbors': 21}\n"
     ]
    }
   ],
   "source": [
    "print('Best Estimator : ',knn_brute_bow.best_estimator_)\n",
    "print('\\nClasses : ',knn_brute_bow.classes_)\n",
    "print('\\nBest Score : ',knn_brute_bow.best_score_)\n",
    "print('\\nNo of Splits : ',knn_brute_bow.n_splits_)\n",
    "print('\\nBest params : ',knn_brute_bow.best_params_)"
   ]
  },
  {
   "cell_type": "code",
   "execution_count": 45,
   "metadata": {},
   "outputs": [
    {
     "name": "stdout",
     "output_type": "stream",
     "text": [
      "optimal_k  21\n",
      "AUC_max_brute_bow  0.6402036417134928\n"
     ]
    }
   ],
   "source": [
    "optimal_k = knn_brute_bow.best_params_['n_neighbors']\n",
    "AUC_max_brute_bow = knn_brute_bow.best_score_\n",
    "print('optimal_k ',optimal_k)\n",
    "print('AUC_max_brute_bow ',AUC_max_brute_bow)"
   ]
  },
  {
   "cell_type": "code",
   "execution_count": 46,
   "metadata": {},
   "outputs": [],
   "source": [
    "#storing the AUC scores for each grid\n",
    "AUC_train_bow = knn_brute_bow.cv_results_['mean_test_score']"
   ]
  },
  {
   "cell_type": "code",
   "execution_count": 47,
   "metadata": {},
   "outputs": [],
   "source": [
    "#storing AUC for CV data for each neighbor\n",
    "AUC_cv_bow = GridSearchCV(KNeighborsClassifier(),param_grid=hyperparameters,cv=5,scoring='roc_auc').fit(final_countsCV,y_CV).cv_results_['mean_test_score']"
   ]
  },
  {
   "cell_type": "code",
   "execution_count": 48,
   "metadata": {},
   "outputs": [
    {
     "data": {
      "image/png": "[encoded data removed]",
      "text/plain": [
       "<Figure size 432x288 with 1 Axes>"
      ]
     },
     "metadata": {
      "needs_background": "light"
     },
     "output_type": "display_data"
    }
   ],
   "source": [
    "#plotting AUC for train and cv data\n",
    "\n",
    "plt.plot(AUC_train_bow,hyperparameters['n_neighbors'],label='train_curve')\n",
    "plt.plot(AUC_cv_bow,hyperparameters['n_neighbors'],label='cv_curve')\n",
    "plt.title('ROC curve for train and cv data')\n",
    "plt.xlabel('Hyperparameters : neighbors')\n",
    "plt.ylabel('AUC Score')\n",
    "plt.legend()\n",
    "plt.show()\n"
   ]
  },
  {
   "cell_type": "code",
   "execution_count": 49,
   "metadata": {},
   "outputs": [
    {
     "data": {
      "image/png": "[encoded data removed]",
      "text/plain": [
       "<Figure size 432x288 with 1 Axes>"
      ]
     },
     "metadata": {
      "needs_background": "light"
     },
     "output_type": "display_data"
    }
   ],
   "source": [
    "#plotting ROC curve for train and test data tuned with best hyperparameter\n",
    "knn_bow_train = KNeighborsClassifier(n_neighbors=optimal_k)\n",
    "knn_bow_train = knn_bow_train.fit(final_countsTrain,y_train)\n",
    "\n",
    "y_pred_knn_bow_train = knn_bow_train.predict_proba(final_countsTrain)[:,1]\n",
    "fpr_bi,tpr_bi,t = metrics.roc_curve(y_train,y_pred_knn_bow_train)\n",
    "\n",
    "y_pred_knn_bow_test = knn_bow_train.predict_proba(final_countsTEST)[:,1]\n",
    "fpr_bi2,tpr_bi2,t = metrics.roc_curve(y_test,y_pred_knn_bow_test)\n",
    "\n",
    "plt.plot(fpr_bi,tpr_bi,label='Train ROC Curve')\n",
    "plt.plot(fpr_bi2,tpr_bi2,label='Test ROC Curve')\n",
    "plt.legend()\n",
    "plt.xlabel('False Positive Rate')\n",
    "plt.ylabel('True Positive Rate')\n",
    "plt.title('ROC curve of train and test data')\n",
    "plt.show()"
   ]
  },
  {
   "cell_type": "code",
   "execution_count": 50,
   "metadata": {},
   "outputs": [
    {
     "data": {
      "text/plain": [
       "<matplotlib.axes._subplots.AxesSubplot at 0x2211dedcd48>"
      ]
     },
     "execution_count": 50,
     "metadata": {},
     "output_type": "execute_result"
    },
    {
     "data": {
      "image/png": "[encoded data removed]",
      "text/plain": [
       "<Figure size 432x288 with 2 Axes>"
      ]
     },
     "metadata": {
      "needs_background": "light"
     },
     "output_type": "display_data"
    }
   ],
   "source": [
    "#Confusion matrix with default value of threshold i.e. 0.5\n",
    "\n",
    "pred_knn_brute = knn_bow_train.predict(final_countsTEST)\n",
    "\n",
    "cm = metrics.confusion_matrix(y_test,pred_knn_brute)\n",
    "\n",
    "ax2 = plt.subplot()\n",
    "sns.heatmap(cm,annot=True,ax=ax2,fmt='g')"
   ]
  },
  {
   "cell_type": "code",
   "execution_count": 51,
   "metadata": {},
   "outputs": [
    {
     "name": "stdout",
     "output_type": "stream",
     "text": [
      "0.1\n"
     ]
    },
    {
     "data": {
      "text/plain": [
       "<matplotlib.axes._subplots.AxesSubplot at 0x2211de9e388>"
      ]
     },
     "execution_count": 51,
     "metadata": {},
     "output_type": "execute_result"
    },
    {
     "data": {
      "image/png": "[encoded data removed]",
      "text/plain": [
       "<Figure size 432x288 with 2 Axes>"
      ]
     },
     "metadata": {
      "needs_background": "light"
     },
     "output_type": "display_data"
    }
   ],
   "source": [
    "#finding the best threshold for probability to be considered for confusion matrix to classify reviews\n",
    "#decided on the basis of ratio of correct against wrong prediction\n",
    "\n",
    "from sklearn.preprocessing import binarize\n",
    "\n",
    "t = list(np.arange(0.1,1.1,0.1))\n",
    "ratio=[]\n",
    "for x in t:\n",
    "    pred_class = binarize(pred_knn_brute.reshape(-1,1),threshold = x)\n",
    "    tn, fp, fn, tp = metrics.confusion_matrix(y_test,pred_class).ravel()\n",
    "    ratio.append((tp+tn)/(fp+fn))\n",
    "#print(ratio)\n",
    "optimal_t = t[ratio.index(max(ratio))]\n",
    "print(optimal_t)\n",
    "\n",
    "\n",
    "\n",
    "pred_class = binarize(pred_knn_brute.reshape(-1,1),threshold = optimal_t)\n",
    "cm2 = metrics.confusion_matrix(y_test,pred_class)\n",
    "plt.figure()\n",
    "ax2 = plt.subplot()\n",
    "sns.heatmap(cm2,annot=True,ax=ax2,fmt='g')"
   ]
  },
  {
   "cell_type": "markdown",
   "metadata": {},
   "source": [
    "### [5.1.2] Applying KNN brute force on TFIDF,<font color='red'> SET 2</font>"
   ]
  },
  {
   "cell_type": "code",
   "execution_count": 52,
   "metadata": {},
   "outputs": [
    {
     "data": {
      "text/plain": [
       "GridSearchCV(cv=5, error_score='raise-deprecating',\n",
       "             estimator=KNeighborsClassifier(algorithm='auto', leaf_size=30,\n",
       "                                            metric='minkowski',\n",
       "                                            metric_params=None, n_jobs=None,\n",
       "                                            n_neighbors=5, p=2,\n",
       "                                            weights='uniform'),\n",
       "             iid='warn', n_jobs=None,\n",
       "             param_grid={'n_neighbors': [3, 5, 7, 9, 11, 13, 15, 17, 19, 21, 23,\n",
       "                                         25, 27, 29]},\n",
       "             pre_dispatch='2*n_jobs', refit=True, return_train_score=False,\n",
       "             scoring='roc_auc', verbose=0)"
      ]
     },
     "execution_count": 52,
     "metadata": {},
     "output_type": "execute_result"
    }
   ],
   "source": [
    "# Please write all the code with proper documentation\n",
    "                 \n",
    "hyperparameters = {'n_neighbors':list(filter(lambda x : x % 2 != 0 , list(range(2,30))))}\n",
    "\n",
    "knn_brute_tfidf = GridSearchCV(KNeighborsClassifier(),param_grid=hyperparameters,cv=5,scoring='roc_auc')\n",
    "knn_brute_tfidf.fit(final_tf_idfTrain,y_train)"
   ]
  },
  {
   "cell_type": "code",
   "execution_count": 53,
   "metadata": {},
   "outputs": [
    {
     "name": "stdout",
     "output_type": "stream",
     "text": [
      "Best Estimator :  KNeighborsClassifier(algorithm='auto', leaf_size=30, metric='minkowski',\n",
      "                     metric_params=None, n_jobs=None, n_neighbors=11, p=2,\n",
      "                     weights='uniform')\n",
      "\n",
      "Classes :  [0 1]\n",
      "\n",
      "Best Score :  0.5115266170484649\n",
      "\n",
      "No of Splits :  5\n",
      "\n",
      "Best params :  {'n_neighbors': 11}\n",
      "\n",
      "optimal_k_tfidf :  11\n",
      "\n",
      "AUC_max_brute_tfidf :  0.5115266170484649\n"
     ]
    }
   ],
   "source": [
    "print('Best Estimator : ',knn_brute_tfidf.best_estimator_)\n",
    "print('\\nClasses : ',knn_brute_tfidf.classes_)\n",
    "print('\\nBest Score : ',knn_brute_tfidf.best_score_)\n",
    "print('\\nNo of Splits : ',knn_brute_tfidf.n_splits_)\n",
    "print('\\nBest params : ',knn_brute_tfidf.best_params_)\n",
    "\n",
    "optimal_k_tfidf = knn_brute_tfidf.best_params_['n_neighbors']\n",
    "AUC_max_brute_tfidf = knn_brute_tfidf.best_score_\n",
    "\n",
    "print('\\noptimal_k_tfidf : ',optimal_k_tfidf)\n",
    "print('\\nAUC_max_brute_tfidf : ',AUC_max_brute_tfidf)"
   ]
  },
  {
   "cell_type": "code",
   "execution_count": 54,
   "metadata": {},
   "outputs": [],
   "source": [
    "#storing the AUC scores for each grid\n",
    "AUC_train_tfidf = knn_brute_tfidf.cv_results_['mean_test_score']"
   ]
  },
  {
   "cell_type": "code",
   "execution_count": 55,
   "metadata": {},
   "outputs": [
    {
     "data": {
      "image/png": "[encoded data removed]",
      "text/plain": [
       "<Figure size 432x288 with 1 Axes>"
      ]
     },
     "metadata": {
      "needs_background": "light"
     },
     "output_type": "display_data"
    }
   ],
   "source": [
    "#storing AUC for CV data for each neighbor\n",
    "AUC_cv_tfidf = GridSearchCV(KNeighborsClassifier(),param_grid=hyperparameters,cv=5,scoring='roc_auc').fit(final_tf_idfCV,y_CV).cv_results_['mean_test_score']\n",
    "\n",
    "#plotting AUC for train and cv data\n",
    "\n",
    "plt.plot(AUC_train_tfidf,hyperparameters['n_neighbors'],label='train_curve')\n",
    "plt.plot(AUC_cv_tfidf,hyperparameters['n_neighbors'],label='cv_curve')\n",
    "plt.title('ROC curve for train and cv data')\n",
    "plt.xlabel('Hyperparameters : neighbors')\n",
    "plt.ylabel('AUC Score')\n",
    "plt.legend()\n",
    "plt.show()"
   ]
  },
  {
   "cell_type": "code",
   "execution_count": 56,
   "metadata": {},
   "outputs": [
    {
     "data": {
      "image/png": "[encoded data removed]",
      "text/plain": [
       "<Figure size 432x288 with 1 Axes>"
      ]
     },
     "metadata": {
      "needs_background": "light"
     },
     "output_type": "display_data"
    }
   ],
   "source": [
    "#plotting ROC curve for train and test data tuned with best hyperparameter\n",
    "knn_tfidf_train = KNeighborsClassifier(n_neighbors=optimal_k_tfidf)\n",
    "knn_tfidf_train = knn_tfidf_train.fit(final_tf_idfTrain,y_train)\n",
    "\n",
    "y_pred_knn_tfidf_train = knn_tfidf_train.predict_proba(final_tf_idfTrain)[:,1]\n",
    "fpr_bi,tpr_bi,t = metrics.roc_curve(y_train,y_pred_knn_tfidf_train)\n",
    "\n",
    "y_pred_knn_tfidf_test = knn_tfidf_train.predict_proba(final_tf_idfTEST)[:,1]\n",
    "fpr_bi2,tpr_bi2,t = metrics.roc_curve(y_test,y_pred_knn_tfidf_test)\n",
    "\n",
    "plt.plot(fpr_bi,tpr_bi,label='Train ROC Curve')\n",
    "plt.plot(fpr_bi2,tpr_bi2,label='Test ROC Curve')\n",
    "plt.legend()\n",
    "plt.xlabel('False Positive Rate')\n",
    "plt.ylabel('True Positive Rate')\n",
    "plt.title('ROC curve of train and test data')\n",
    "plt.show()\n",
    "\n"
   ]
  },
  {
   "cell_type": "code",
   "execution_count": 57,
   "metadata": {},
   "outputs": [
    {
     "data": {
      "text/plain": [
       "<matplotlib.axes._subplots.AxesSubplot at 0x2211ded1408>"
      ]
     },
     "execution_count": 57,
     "metadata": {},
     "output_type": "execute_result"
    },
    {
     "data": {
      "image/png": "[encoded data removed]",
      "text/plain": [
       "<Figure size 432x288 with 2 Axes>"
      ]
     },
     "metadata": {
      "needs_background": "light"
     },
     "output_type": "display_data"
    }
   ],
   "source": [
    "#Confusion matrix with default value of threshold i.e. 0.5\n",
    "\n",
    "pred_knn_brute_tfidf = knn_tfidf_train.predict(final_tf_idfTEST)\n",
    "\n",
    "cm = metrics.confusion_matrix(y_test,pred_knn_brute_tfidf)\n",
    "\n",
    "ax2 = plt.subplot()\n",
    "sns.heatmap(cm,annot=True,ax=ax2,fmt='g')"
   ]
  },
  {
   "cell_type": "code",
   "execution_count": 58,
   "metadata": {},
   "outputs": [
    {
     "name": "stdout",
     "output_type": "stream",
     "text": [
      "0.1\n"
     ]
    },
    {
     "data": {
      "text/plain": [
       "<matplotlib.axes._subplots.AxesSubplot at 0x2211dfe59c8>"
      ]
     },
     "execution_count": 58,
     "metadata": {},
     "output_type": "execute_result"
    },
    {
     "data": {
      "image/png": "[encoded data removed]",
      "text/plain": [
       "<Figure size 432x288 with 2 Axes>"
      ]
     },
     "metadata": {
      "needs_background": "light"
     },
     "output_type": "display_data"
    }
   ],
   "source": [
    "#finding the best threshold for probability to be considered for confusion matrix to classify reviews\n",
    "#decided on the basis of ratio of correct against wrong prediction\n",
    "\n",
    "from sklearn.preprocessing import binarize\n",
    "\n",
    "t = list(np.arange(0.1,1.1,0.1))\n",
    "ratio=[]\n",
    "for x in t:\n",
    "    pred_class = binarize(pred_knn_brute_tfidf.reshape(-1,1),threshold = x)\n",
    "    tn, fp, fn, tp = metrics.confusion_matrix(y_test,pred_class).ravel()\n",
    "    ratio.append((tp+tn)/(fp+fn))\n",
    "#print(ratio)\n",
    "optimal_t_tfidf = t[ratio.index(max(ratio))]\n",
    "print(optimal_t_tfidf)\n",
    "\n",
    "pred_class = binarize(pred_knn_brute_tfidf.reshape(-1,1),threshold = optimal_t_tfidf)\n",
    "cm2 = metrics.confusion_matrix(y_test,pred_class)\n",
    "plt.figure()\n",
    "ax2 = plt.subplot()\n",
    "sns.heatmap(cm2,annot=True,ax=ax2,fmt='g')"
   ]
  },
  {
   "cell_type": "markdown",
   "metadata": {},
   "source": [
    "### [5.1.3] Applying KNN brute force on AVG W2V,<font color='red'> SET 3</font>"
   ]
  },
  {
   "cell_type": "code",
   "execution_count": 59,
   "metadata": {},
   "outputs": [
    {
     "name": "stdout",
     "output_type": "stream",
     "text": [
      "Best Estimator :  KNeighborsClassifier(algorithm='auto', leaf_size=30, metric='minkowski',\n",
      "                     metric_params=None, n_jobs=None, n_neighbors=29, p=2,\n",
      "                     weights='uniform')\n",
      "\n",
      "Classes :  [0 1]\n",
      "\n",
      "Best Score :  0.8544990169457624\n",
      "\n",
      "No of Splits :  5\n",
      "\n",
      "Best params :  {'n_neighbors': 29}\n",
      "optimal_k_avgw2v  29\n"
     ]
    }
   ],
   "source": [
    "hyperparameters = {'n_neighbors':list(filter(lambda x : x % 2 != 0 , list(range(2,30))))}\n",
    "\n",
    "knn_brute_avgw2v = GridSearchCV(KNeighborsClassifier(),param_grid=hyperparameters,cv=5,scoring='roc_auc')\n",
    "knn_brute_avgw2v.fit(sent_vectors_train,y_train)\n",
    "\n",
    "print('Best Estimator : ',knn_brute_avgw2v.best_estimator_)\n",
    "print('\\nClasses : ',knn_brute_avgw2v.classes_)\n",
    "print('\\nBest Score : ',knn_brute_avgw2v.best_score_)\n",
    "print('\\nNo of Splits : ',knn_brute_avgw2v.n_splits_)\n",
    "print('\\nBest params : ',knn_brute_avgw2v.best_params_)\n",
    "\n",
    "optimal_k_avgw2v = knn_brute_avgw2v.best_params_['n_neighbors']\n",
    "AUC_max_brute_avgw2v = knn_brute_avgw2v.best_score_\n",
    "\n",
    "print('optimal_k_avgw2v ',optimal_k_avgw2v)\n",
    "\n",
    "#storing the AUC scores for each grid\n",
    "AUC_train_avgw2v = knn_brute_avgw2v.cv_results_['mean_test_score']\n"
   ]
  },
  {
   "cell_type": "code",
   "execution_count": 60,
   "metadata": {},
   "outputs": [],
   "source": [
    "#storing AUC for CV data for each neighbor\n",
    "AUC_cv_avgw2v = GridSearchCV(KNeighborsClassifier(),param_grid=hyperparameters,cv=5,scoring='roc_auc').fit(sent_vectors_cv,y_CV).cv_results_['mean_test_score']\n"
   ]
  },
  {
   "cell_type": "code",
   "execution_count": 61,
   "metadata": {},
   "outputs": [
    {
     "data": {
      "image/png": "[encoded data removed]",
      "text/plain": [
       "<Figure size 432x288 with 1 Axes>"
      ]
     },
     "metadata": {
      "needs_background": "light"
     },
     "output_type": "display_data"
    }
   ],
   "source": [
    "#plotting AUC for train and cv data\n",
    "\n",
    "plt.plot(AUC_train_avgw2v,hyperparameters['n_neighbors'],label='train_curve')\n",
    "plt.plot(AUC_cv_avgw2v,hyperparameters['n_neighbors'],label='cv_curve')\n",
    "plt.title('ROC curve for train and cv data')\n",
    "plt.xlabel('Hyperparameters : neighbors')\n",
    "plt.ylabel('AUC Score')\n",
    "plt.legend()\n",
    "plt.show()"
   ]
  },
  {
   "cell_type": "code",
   "execution_count": 62,
   "metadata": {},
   "outputs": [
    {
     "data": {
      "image/png": "[encoded data removed]",
      "text/plain": [
       "<Figure size 432x288 with 1 Axes>"
      ]
     },
     "metadata": {
      "needs_background": "light"
     },
     "output_type": "display_data"
    }
   ],
   "source": [
    "#plotting ROC curve for train and test data tuned with best hyperparameter\n",
    "knn_avgw2v_train = KNeighborsClassifier(n_neighbors=optimal_k_avgw2v)\n",
    "knn_avgw2v_train = knn_avgw2v_train.fit(sent_vectors_train,y_train)\n",
    "\n",
    "y_pred_knn_avgw2v_train = knn_avgw2v_train.predict_proba(sent_vectors_train)[:,1]\n",
    "fpr_bi,tpr_bi,t = metrics.roc_curve(y_train,y_pred_knn_avgw2v_train)\n",
    "\n",
    "y_pred_knn_avgw2v_test = knn_avgw2v_train.predict_proba(sent_vectors_test)[:,1]\n",
    "fpr_bi2,tpr_bi2,t = metrics.roc_curve(y_test,y_pred_knn_avgw2v_test)\n",
    "\n",
    "plt.plot(fpr_bi,tpr_bi,label='Train ROC Curve')\n",
    "plt.plot(fpr_bi2,tpr_bi2,label='Test ROC Curve')\n",
    "plt.legend()\n",
    "plt.xlabel('False Positive Rate')\n",
    "plt.ylabel('True Positive Rate')\n",
    "plt.title('ROC curve of train and test data')\n",
    "plt.show()\n"
   ]
  },
  {
   "cell_type": "code",
   "execution_count": 63,
   "metadata": {},
   "outputs": [
    {
     "data": {
      "text/plain": [
       "<matplotlib.axes._subplots.AxesSubplot at 0x2211e1bc6c8>"
      ]
     },
     "execution_count": 63,
     "metadata": {},
     "output_type": "execute_result"
    },
    {
     "data": {
      "image/png": "[encoded data removed]",
      "text/plain": [
       "<Figure size 432x288 with 2 Axes>"
      ]
     },
     "metadata": {
      "needs_background": "light"
     },
     "output_type": "display_data"
    }
   ],
   "source": [
    "#Confusion matrix with default value of threshold i.e. 0.5\n",
    "\n",
    "pred_knn_brute_avgw2v = knn_avgw2v_train.predict(sent_vectors_test)\n",
    "\n",
    "cm = metrics.confusion_matrix(y_test,pred_knn_brute_avgw2v)\n",
    "\n",
    "ax2 = plt.subplot()\n",
    "sns.heatmap(cm,annot=True,ax=ax2,fmt='g')\n"
   ]
  },
  {
   "cell_type": "code",
   "execution_count": 64,
   "metadata": {
    "scrolled": true
   },
   "outputs": [
    {
     "name": "stdout",
     "output_type": "stream",
     "text": [
      "0.1\n"
     ]
    },
    {
     "data": {
      "text/plain": [
       "<matplotlib.axes._subplots.AxesSubplot at 0x2211de495c8>"
      ]
     },
     "execution_count": 64,
     "metadata": {},
     "output_type": "execute_result"
    },
    {
     "data": {
      "image/png": "[encoded data removed]",
      "text/plain": [
       "<Figure size 432x288 with 2 Axes>"
      ]
     },
     "metadata": {
      "needs_background": "light"
     },
     "output_type": "display_data"
    }
   ],
   "source": [
    "#finding the best threshold for probability to be considered for confusion matrix to classify reviews\n",
    "#decided on the basis of ratio of correct against wrong prediction\n",
    "\n",
    "from sklearn.preprocessing import binarize\n",
    "\n",
    "t = list(np.arange(0.1,1.1,0.1))\n",
    "ratio=[]\n",
    "for x in t:\n",
    "    pred_class = binarize(pred_knn_brute_avgw2v.reshape(-1,1),threshold = x)\n",
    "    tn, fp, fn, tp = metrics.confusion_matrix(y_test,pred_class).ravel()\n",
    "    ratio.append((tp+tn)/(fp+fn))\n",
    "#print(ratio)\n",
    "optimal_t_avgw2v = t[ratio.index(max(ratio))]\n",
    "print(optimal_t_avgw2v)\n",
    "\n",
    "pred_class = binarize(pred_knn_brute_avgw2v.reshape(-1,1),threshold = optimal_t_avgw2v)\n",
    "cm2 = metrics.confusion_matrix(y_test,pred_class)\n",
    "plt.figure()\n",
    "ax2 = plt.subplot()\n",
    "sns.heatmap(cm2,annot=True,ax=ax2,fmt='g')"
   ]
  },
  {
   "cell_type": "markdown",
   "metadata": {},
   "source": [
    "### [5.1.4] Applying KNN brute force on TFIDF W2V,<font color='red'> SET 4</font>"
   ]
  },
  {
   "cell_type": "code",
   "execution_count": 65,
   "metadata": {},
   "outputs": [
    {
     "name": "stdout",
     "output_type": "stream",
     "text": [
      "Best Estimator :  KNeighborsClassifier(algorithm='auto', leaf_size=30, metric='minkowski',\n",
      "                     metric_params=None, n_jobs=None, n_neighbors=29, p=2,\n",
      "                     weights='uniform')\n",
      "\n",
      "Classes :  [0 1]\n",
      "\n",
      "Best Score :  0.8205762996917313\n",
      "\n",
      "No of Splits :  5\n",
      "\n",
      "Best params :  {'n_neighbors': 29}\n",
      "29\n"
     ]
    }
   ],
   "source": [
    "# Please write all the code with proper documentation\n",
    "\n",
    "hyperparameters = {'n_neighbors':list(filter(lambda x : x % 2 != 0 , list(range(2,30))))}\n",
    "\n",
    "knn_brute_tfw2v = GridSearchCV(KNeighborsClassifier(),param_grid=hyperparameters,cv=5,scoring='roc_auc')\n",
    "knn_brute_tfw2v.fit(tfidf_sent_vectors_train,y_train)\n",
    "\n",
    "print('Best Estimator : ',knn_brute_tfw2v.best_estimator_)\n",
    "print('\\nClasses : ',knn_brute_tfw2v.classes_)\n",
    "print('\\nBest Score : ',knn_brute_tfw2v.best_score_)\n",
    "print('\\nNo of Splits : ',knn_brute_tfw2v.n_splits_)\n",
    "print('\\nBest params : ',knn_brute_tfw2v.best_params_)\n",
    "\n",
    "optimal_k_tfw2v = knn_brute_tfw2v.best_params_['n_neighbors']\n",
    "print(optimal_k_tfw2v)"
   ]
  },
  {
   "cell_type": "code",
   "execution_count": 66,
   "metadata": {},
   "outputs": [],
   "source": [
    "AUC_max_brute_tfw2v = knn_brute_tfw2v.best_score_"
   ]
  },
  {
   "cell_type": "code",
   "execution_count": 67,
   "metadata": {},
   "outputs": [],
   "source": [
    "#storing the AUC scores for train data for each grid\n",
    "AUC_train_tfw2v = knn_brute_tfw2v.cv_results_['mean_test_score']\n",
    "\n",
    "#storing AUC for CV data for each neighbor\n",
    "AUC_cv_tfw2v = GridSearchCV(KNeighborsClassifier(),param_grid=hyperparameters,cv=5,scoring='roc_auc').fit(tfidf_sent_vectors_CV,y_CV).cv_results_['mean_test_score']\n"
   ]
  },
  {
   "cell_type": "code",
   "execution_count": 68,
   "metadata": {},
   "outputs": [
    {
     "data": {
      "image/png": "[encoded data removed]",
      "text/plain": [
       "<Figure size 432x288 with 1 Axes>"
      ]
     },
     "metadata": {
      "needs_background": "light"
     },
     "output_type": "display_data"
    }
   ],
   "source": [
    "#plotting AUC for train and cv data\n",
    "\n",
    "plt.plot(AUC_train_tfw2v,hyperparameters['n_neighbors'],label='train_curve')\n",
    "plt.plot(AUC_cv_tfw2v,hyperparameters['n_neighbors'],label='cv_curve')\n",
    "plt.title('ROC curve for train and cv data')\n",
    "plt.xlabel('Hyperparameters : neighbors')\n",
    "plt.ylabel('AUC Score')\n",
    "plt.legend()\n",
    "plt.show()\n"
   ]
  },
  {
   "cell_type": "code",
   "execution_count": 69,
   "metadata": {},
   "outputs": [
    {
     "data": {
      "image/png": "[encoded data removed]",
      "text/plain": [
       "<Figure size 432x288 with 1 Axes>"
      ]
     },
     "metadata": {
      "needs_background": "light"
     },
     "output_type": "display_data"
    }
   ],
   "source": [
    "#plotting ROC curve for train and test data tuned with best hyperparameter\n",
    "knn_tfw2v_train = KNeighborsClassifier(n_neighbors=optimal_k_tfw2v)\n",
    "knn_tfw2v_train = knn_tfw2v_train.fit(tfidf_sent_vectors_train,y_train)\n",
    "\n",
    "y_pred_knn_tfw2v_train = knn_tfw2v_train.predict_proba(tfidf_sent_vectors_train)[:,1]\n",
    "fpr_bi,tpr_bi,t = metrics.roc_curve(y_train,y_pred_knn_tfw2v_train)\n",
    "\n",
    "y_pred_knn_tfw2v_test = knn_tfw2v_train.predict_proba(tfidf_sent_vectors_test)[:,1]\n",
    "fpr_bi2,tpr_bi2,t = metrics.roc_curve(y_test,y_pred_knn_tfw2v_test)\n",
    "\n",
    "plt.plot(fpr_bi,tpr_bi,label='Train ROC Curve')\n",
    "plt.plot(fpr_bi2,tpr_bi2,label='Test ROC Curve')\n",
    "plt.legend()\n",
    "plt.xlabel('False Positive Rate')\n",
    "plt.ylabel('True Positive Rate')\n",
    "plt.title('ROC curve of train and test data')\n",
    "plt.show()"
   ]
  },
  {
   "cell_type": "code",
   "execution_count": 70,
   "metadata": {},
   "outputs": [
    {
     "data": {
      "text/plain": [
       "<matplotlib.axes._subplots.AxesSubplot at 0x2211de924c8>"
      ]
     },
     "execution_count": 70,
     "metadata": {},
     "output_type": "execute_result"
    },
    {
     "data": {
      "image/png": "[encoded data removed]",
      "text/plain": [
       "<Figure size 432x288 with 2 Axes>"
      ]
     },
     "metadata": {
      "needs_background": "light"
     },
     "output_type": "display_data"
    }
   ],
   "source": [
    "#Confusion matrix with default value of threshold i.e. 0.5\n",
    "\n",
    "pred_knn_brute_tfw2v = knn_tfw2v_train.predict(tfidf_sent_vectors_test)\n",
    "\n",
    "cm = metrics.confusion_matrix(y_test,pred_knn_brute_tfw2v)\n",
    "\n",
    "ax2 = plt.subplot()\n",
    "sns.heatmap(cm,annot=True,ax=ax2,fmt='g')\n"
   ]
  },
  {
   "cell_type": "code",
   "execution_count": 71,
   "metadata": {},
   "outputs": [
    {
     "name": "stdout",
     "output_type": "stream",
     "text": [
      "0.1\n"
     ]
    },
    {
     "data": {
      "text/plain": [
       "<matplotlib.axes._subplots.AxesSubplot at 0x2211dfe4148>"
      ]
     },
     "execution_count": 71,
     "metadata": {},
     "output_type": "execute_result"
    },
    {
     "data": {
      "image/png": "[encoded data removed]",
      "text/plain": [
       "<Figure size 432x288 with 2 Axes>"
      ]
     },
     "metadata": {
      "needs_background": "light"
     },
     "output_type": "display_data"
    }
   ],
   "source": [
    "#finding the best threshold for probability to be considered for confusion matrix to classify reviews\n",
    "#decided on the basis of ratio of correct against wrong prediction\n",
    "\n",
    "from sklearn.preprocessing import binarize\n",
    "\n",
    "t = list(np.arange(0.1,1.1,0.1))\n",
    "ratio=[]\n",
    "for x in t:\n",
    "    pred_class = binarize(pred_knn_brute_tfw2v.reshape(-1,1),threshold = x)\n",
    "    tn, fp, fn, tp = metrics.confusion_matrix(y_test,pred_class).ravel()\n",
    "    ratio.append((tp+tn)/(fp+fn))\n",
    "#print(ratio)\n",
    "optimal_t_tfw2v = t[ratio.index(max(ratio))]\n",
    "print(optimal_t_tfw2v)\n",
    "\n",
    "pred_class = binarize(pred_knn_brute_tfw2v.reshape(-1,1),threshold = optimal_t_tfw2v)\n",
    "cm2 = metrics.confusion_matrix(y_test,pred_class)\n",
    "plt.figure()\n",
    "ax2 = plt.subplot()\n",
    "sns.heatmap(cm2,annot=True,ax=ax2,fmt='g')"
   ]
  },
  {
   "cell_type": "markdown",
   "metadata": {},
   "source": [
    "## [5.2] Applying KNN kd-tree"
   ]
  },
  {
   "cell_type": "code",
   "execution_count": 75,
   "metadata": {},
   "outputs": [],
   "source": [
    "#sampling data to 15000  for kD tree \n",
    "\n",
    "#Splitting the data into train,CV and test\n",
    "\n",
    "from sklearn.model_selection import train_test_split\n",
    "\n",
    "X_train,X_test,y_train,y_test = train_test_split(preprocessed_reviews[:15000],final['Score'][:15000],random_state=100,test_size=0.30,shuffle=False)\n",
    "\n",
    "X_train,X_CV,y_train,y_CV = train_test_split(X_train,y_train,random_state=100,test_size=0.30,shuffle=False)"
   ]
  },
  {
   "cell_type": "code",
   "execution_count": 80,
   "metadata": {},
   "outputs": [
    {
     "name": "stdout",
     "output_type": "stream",
     "text": [
      "7350\n",
      "3150\n",
      "4500\n",
      "\n",
      "****************************\n",
      "\n",
      "7350\n",
      "4500\n"
     ]
    }
   ],
   "source": [
    "print(len(X_train))\n",
    "print(len(X_CV))\n",
    "print(len(X_test))\n",
    "print('\\n****************************\\n')\n",
    "print(len(y_train))\n",
    "print(len(y_test))"
   ]
  },
  {
   "cell_type": "markdown",
   "metadata": {},
   "source": [
    "# Vectorizing data with different parameters"
   ]
  },
  {
   "cell_type": "code",
   "execution_count": 81,
   "metadata": {},
   "outputs": [
    {
     "name": "stdout",
     "output_type": "stream",
     "text": [
      "some feature names  ['able', 'absolutely', 'actually', 'add', 'added', 'ago', 'almost', 'already', 'also', 'alternative']\n",
      "==================================================\n",
      "the type of count vectorizer  <class 'scipy.sparse.csr.csr_matrix'>\n",
      "the shape of out text BOW vectorizer  (22574, 28163)\n",
      "the number of unique words  28163\n",
      "\n",
      "...........................TFIDF Vectorization starts.............................\n",
      "\n",
      "some sample features(unique words in the corpus) ['able', 'absolutely', 'actually', 'add', 'added', 'ago', 'almost', 'also', 'although', 'always']\n",
      "==================================================\n",
      "the type of count vectorizer  <class 'scipy.sparse.csr.csr_matrix'>\n",
      "the shape of out text TFIDF vectorizer  (7350, 500)\n",
      "the number of unique words including both unigrams and bigrams  500\n"
     ]
    }
   ],
   "source": [
    "#BoW\n",
    "count_vect_kd = CountVectorizer(min_df=10,max_features=500) #in scikit-learn\n",
    "count_vect_kd.fit(X_train)\n",
    "print(\"some feature names \", count_vect_kd.get_feature_names()[:10])\n",
    "print('='*50)\n",
    "\n",
    "#Vectorizing the train \n",
    "final_countsTrain_kd = count_vect_kd.transform(X_train)\n",
    "\n",
    "bow_features_kd = count_vect_kd.get_feature_names()\n",
    "\n",
    "print(\"the type of count vectorizer \",type(final_countsTrain))\n",
    "print(\"the shape of out text BOW vectorizer \",final_countsTrain.get_shape())\n",
    "print(\"the number of unique words \", final_countsTrain.get_shape()[1])\n",
    "\n",
    "#Vectorizing the CV data\n",
    "final_countsCV_kd = count_vect_kd.transform(X_CV)\n",
    "\n",
    "#Vectorizing the test data\n",
    "\n",
    "final_countsTEST_kd = count_vect_kd.transform(X_test)\n",
    "\n",
    "print('\\n...........................TFIDF Vectorization starts.............................\\n')\n",
    "## [4.3] TF-IDF\n",
    "\n",
    "tf_idf_vect_kd = TfidfVectorizer(ngram_range=(1,2), min_df=10,max_features=500)\n",
    "tf_idf_vect_kd.fit(X_train)\n",
    "print(\"some sample features(unique words in the corpus)\",tf_idf_vect_kd.get_feature_names()[0:10])\n",
    "print('='*50)\n",
    "\n",
    "features_tf_idf_kd = tf_idf_vect_kd.get_feature_names()\n",
    "\n",
    "final_tf_idfTrain_kd = tf_idf_vect_kd.transform(X_train)\n",
    "print(\"the type of count vectorizer \",type(final_tf_idfTrain_kd))\n",
    "print(\"the shape of out text TFIDF vectorizer \",final_tf_idfTrain_kd.get_shape())\n",
    "print(\"the number of unique words including both unigrams and bigrams \", final_tf_idfTrain_kd.get_shape()[1])\n",
    "\n",
    "#vectorizing train,test and cv data\n",
    "\n",
    "final_tf_idfCV_kd = tf_idf_vect_kd.transform(X_CV)\n",
    "final_tf_idfTEST_kd = tf_idf_vect_kd.transform(X_test)"
   ]
  },
  {
   "cell_type": "markdown",
   "metadata": {},
   "source": [
    "### [5.2.1] Applying KNN kd-tree on BOW,<font color='red'> SET 5</font>"
   ]
  },
  {
   "cell_type": "code",
   "execution_count": 82,
   "metadata": {},
   "outputs": [],
   "source": [
    "#converting bow sparse matrix to dense\n",
    "\n",
    "final_countsTrain_kd = final_countsTrain_kd.toarray()\n",
    "final_countsCV_kd = final_countsCV_kd.toarray()\n",
    "final_countsTEST_kd = final_countsTEST_kd.toarray()"
   ]
  },
  {
   "cell_type": "code",
   "execution_count": 83,
   "metadata": {},
   "outputs": [
    {
     "name": "stdout",
     "output_type": "stream",
     "text": [
      "Best Estimator :  KNeighborsClassifier(algorithm='kd_tree', leaf_size=30, metric='minkowski',\n",
      "                     metric_params=None, n_jobs=None, n_neighbors=29, p=2,\n",
      "                     weights='uniform')\n",
      "\n",
      "Classes :  [0 1]\n",
      "\n",
      "Best Score :  0.6982438251892686\n",
      "\n",
      "No of Splits :  5\n",
      "\n",
      "Best params :  {'algorithm': 'kd_tree', 'n_neighbors': 29}\n",
      "29\n"
     ]
    }
   ],
   "source": [
    "# Please write all the code with proper documentation\n",
    "\n",
    "hyperparameters = {'n_neighbors':list(filter(lambda x : x % 2 != 0 , list(range(2,30)))),'algorithm':['kd_tree']}\n",
    "\n",
    "knn_kd_bow = GridSearchCV(KNeighborsClassifier(),param_grid=hyperparameters,cv=5,scoring='roc_auc')\n",
    "knn_kd_bow.fit(final_countsTrain_kd,y_train)\n",
    "\n",
    "print('Best Estimator : ',knn_kd_bow.best_estimator_)\n",
    "print('\\nClasses : ',knn_kd_bow.classes_)\n",
    "print('\\nBest Score : ',knn_kd_bow.best_score_)\n",
    "print('\\nNo of Splits : ',knn_kd_bow.n_splits_)\n",
    "print('\\nBest params : ',knn_kd_bow.best_params_)\n",
    "\n",
    "optimal_k_bow_kd = knn_kd_bow.best_params_['n_neighbors']\n",
    "print(optimal_k_bow_kd)"
   ]
  },
  {
   "cell_type": "code",
   "execution_count": 84,
   "metadata": {},
   "outputs": [],
   "source": [
    "AUC_max_bow_kd = knn_kd_bow.best_score_"
   ]
  },
  {
   "cell_type": "code",
   "execution_count": 85,
   "metadata": {},
   "outputs": [],
   "source": [
    "#storing the AUC scores for each grid\n",
    "AUC_train_bow_kd = knn_kd_bow.cv_results_['mean_test_score']\n",
    "\n",
    "#storing AUC for CV data for each neighbor\n",
    "AUC_cv_bow_kd = GridSearchCV(KNeighborsClassifier(),param_grid=hyperparameters,cv=5,scoring='roc_auc').fit(final_countsCV_kd,y_CV).cv_results_['mean_test_score']\n"
   ]
  },
  {
   "cell_type": "code",
   "execution_count": 86,
   "metadata": {},
   "outputs": [
    {
     "data": {
      "image/png": "[encoded data removed]",
      "text/plain": [
       "<Figure size 432x288 with 1 Axes>"
      ]
     },
     "metadata": {
      "needs_background": "light"
     },
     "output_type": "display_data"
    }
   ],
   "source": [
    "#plotting AUC for train and cv data\n",
    "\n",
    "plt.plot(AUC_train_bow_kd,hyperparameters['n_neighbors'],label='train_curve')\n",
    "plt.plot(AUC_cv_bow_kd,hyperparameters['n_neighbors'],label='cv_curve')\n",
    "plt.title('ROC curve for train and cv data')\n",
    "plt.xlabel('Hyperparameters : neighbors')\n",
    "plt.ylabel('AUC Score')\n",
    "plt.legend()\n",
    "plt.show()"
   ]
  },
  {
   "cell_type": "code",
   "execution_count": 87,
   "metadata": {},
   "outputs": [
    {
     "data": {
      "image/png": "[encoded data removed]",
      "text/plain": [
       "<Figure size 432x288 with 1 Axes>"
      ]
     },
     "metadata": {
      "needs_background": "light"
     },
     "output_type": "display_data"
    }
   ],
   "source": [
    "#plotting ROC curve for train and test data tuned with best hyperparameter\n",
    "knn_bow_train_kd = KNeighborsClassifier(n_neighbors=optimal_k_bow_kd)\n",
    "knn_bow_train_kd = knn_bow_train_kd.fit(final_countsTrain_kd,y_train)\n",
    "\n",
    "y_pred_knn_bow_train_kd = knn_bow_train_kd.predict_proba(final_countsTrain_kd)[:,1]\n",
    "fpr_bi,tpr_bi,t = metrics.roc_curve(y_train,y_pred_knn_bow_train_kd)\n",
    "\n",
    "y_pred_knn_bow_test = knn_bow_train_kd.predict_proba(final_countsTEST_kd)[:,1]\n",
    "fpr_bi2,tpr_bi2,t = metrics.roc_curve(y_test,y_pred_knn_bow_test)\n",
    "\n",
    "plt.plot(fpr_bi,tpr_bi,label='Train ROC Curve')\n",
    "plt.plot(fpr_bi2,tpr_bi2,label='Test ROC Curve')\n",
    "plt.legend()\n",
    "plt.xlabel('False Positive Rate')\n",
    "plt.ylabel('True Positive Rate')\n",
    "plt.title('ROC curve of train and test data')\n",
    "plt.show()"
   ]
  },
  {
   "cell_type": "code",
   "execution_count": 88,
   "metadata": {},
   "outputs": [
    {
     "data": {
      "text/plain": [
       "<matplotlib.axes._subplots.AxesSubplot at 0x22128923708>"
      ]
     },
     "execution_count": 88,
     "metadata": {},
     "output_type": "execute_result"
    },
    {
     "data": {
      "image/png": "[encoded data removed]",
      "text/plain": [
       "<Figure size 432x288 with 2 Axes>"
      ]
     },
     "metadata": {
      "needs_background": "light"
     },
     "output_type": "display_data"
    }
   ],
   "source": [
    "#Confusion matrix with default value of threshold i.e. 0.5\n",
    "\n",
    "pred_knn_kd_bow = knn_bow_train_kd.predict(final_countsTEST_kd)\n",
    "\n",
    "cm = metrics.confusion_matrix(y_test,pred_knn_kd_bow)\n",
    "\n",
    "ax2 = plt.subplot()\n",
    "sns.heatmap(cm,annot=True,ax=ax2,fmt='g')"
   ]
  },
  {
   "cell_type": "code",
   "execution_count": 89,
   "metadata": {},
   "outputs": [
    {
     "name": "stdout",
     "output_type": "stream",
     "text": [
      "0.1\n"
     ]
    },
    {
     "data": {
      "text/plain": [
       "<matplotlib.axes._subplots.AxesSubplot at 0x22127ed2e08>"
      ]
     },
     "execution_count": 89,
     "metadata": {},
     "output_type": "execute_result"
    },
    {
     "data": {
      "image/png": "[encoded data removed]",
      "text/plain": [
       "<Figure size 432x288 with 2 Axes>"
      ]
     },
     "metadata": {
      "needs_background": "light"
     },
     "output_type": "display_data"
    }
   ],
   "source": [
    "#finding the best threshold for probability to be considered for confusion matrix to classify reviews\n",
    "#decided on the basis of ratio of correct against wrong prediction\n",
    "\n",
    "from sklearn.preprocessing import binarize\n",
    "\n",
    "t = list(np.arange(0.1,1.1,0.1))\n",
    "ratio=[]\n",
    "for x in t:\n",
    "    pred_class = binarize(pred_knn_kd_bow.reshape(-1,1),threshold = x)\n",
    "    tn, fp, fn, tp = metrics.confusion_matrix(y_test,pred_class).ravel()\n",
    "    ratio.append((tp+tn)/(fp+fn))\n",
    "#print(ratio)\n",
    "optimal_t_bow_kd = t[ratio.index(max(ratio))]\n",
    "print(optimal_t_bow_kd)\n",
    "\n",
    "pred_class = binarize(pred_knn_kd_bow.reshape(-1,1),threshold = optimal_t_bow_kd)\n",
    "cm2 = metrics.confusion_matrix(y_test,pred_class)\n",
    "plt.figure()\n",
    "ax2 = plt.subplot()\n",
    "sns.heatmap(cm2,annot=True,ax=ax2,fmt='g')"
   ]
  },
  {
   "cell_type": "markdown",
   "metadata": {},
   "source": [
    "### [5.2.2] Applying KNN kd-tree on TFIDF,<font color='red'> SET 6</font>"
   ]
  },
  {
   "cell_type": "code",
   "execution_count": 90,
   "metadata": {},
   "outputs": [],
   "source": [
    "#converting bow sparse matrix to dense\n",
    "\n",
    "final_tf_idfTrain_kd = final_tf_idfTrain_kd.toarray()\n",
    "final_tf_idfCV_kd = final_tf_idfCV_kd.toarray()\n",
    "final_tf_idfTEST_kd = final_tf_idfTEST_kd.toarray()"
   ]
  },
  {
   "cell_type": "code",
   "execution_count": 91,
   "metadata": {},
   "outputs": [
    {
     "name": "stdout",
     "output_type": "stream",
     "text": [
      "Best Estimator :  KNeighborsClassifier(algorithm='kd_tree', leaf_size=30, metric='minkowski',\n",
      "                     metric_params=None, n_jobs=None, n_neighbors=29, p=2,\n",
      "                     weights='uniform')\n",
      "\n",
      "Classes :  [0 1]\n",
      "\n",
      "Best Score :  0.7167146608102605\n",
      "\n",
      "No of Splits :  5\n",
      "\n",
      "Best params :  {'algorithm': 'kd_tree', 'n_neighbors': 29}\n",
      "29\n"
     ]
    }
   ],
   "source": [
    "# Please write all the code with proper documentation\n",
    "hyperparameters = {'n_neighbors':list(filter(lambda x : x % 2 != 0 , list(range(2,30)))),'algorithm':['kd_tree']}\n",
    "\n",
    "knn_kd_tfidf = GridSearchCV(KNeighborsClassifier(),param_grid=hyperparameters,cv=5,scoring='roc_auc')\n",
    "knn_kd_tfidf.fit(final_tf_idfTrain_kd,y_train)\n",
    "\n",
    "print('Best Estimator : ',knn_kd_tfidf.best_estimator_)\n",
    "print('\\nClasses : ',knn_kd_tfidf.classes_)\n",
    "print('\\nBest Score : ',knn_kd_tfidf.best_score_)\n",
    "print('\\nNo of Splits : ',knn_kd_tfidf.n_splits_)\n",
    "print('\\nBest params : ',knn_kd_tfidf.best_params_)\n",
    "\n",
    "optimal_k_tfidf_kd = knn_kd_tfidf.best_params_['n_neighbors']\n",
    "print(optimal_k_tfidf_kd)\n"
   ]
  },
  {
   "cell_type": "code",
   "execution_count": 92,
   "metadata": {},
   "outputs": [],
   "source": [
    "AUC_max_tfidf_kd = knn_kd_tfidf.best_score_"
   ]
  },
  {
   "cell_type": "code",
   "execution_count": 93,
   "metadata": {},
   "outputs": [],
   "source": [
    "#storing the AUC scores for each grid\n",
    "AUC_train_tfidf_kd = knn_kd_tfidf.cv_results_['mean_test_score']\n",
    "\n",
    "#storing AUC for CV data for each neighbor\n",
    "AUC_cv_tfidf_kd = GridSearchCV(KNeighborsClassifier(),param_grid=hyperparameters,cv=5,scoring='roc_auc').fit(final_tf_idfCV_kd,y_CV).cv_results_['mean_test_score']\n"
   ]
  },
  {
   "cell_type": "code",
   "execution_count": 94,
   "metadata": {},
   "outputs": [
    {
     "data": {
      "image/png": "[encoded data removed]",
      "text/plain": [
       "<Figure size 432x288 with 1 Axes>"
      ]
     },
     "metadata": {
      "needs_background": "light"
     },
     "output_type": "display_data"
    }
   ],
   "source": [
    "#plotting AUC for train and cv data\n",
    "\n",
    "plt.plot(AUC_train_tfidf_kd,hyperparameters['n_neighbors'],label='train_curve')\n",
    "plt.plot(AUC_cv_tfidf_kd,hyperparameters['n_neighbors'],label='cv_curve')\n",
    "plt.title('ROC curve for train and cv data')\n",
    "plt.xlabel('Hyperparameters : neighbors')\n",
    "plt.ylabel('AUC Score')\n",
    "plt.legend()\n",
    "plt.show()"
   ]
  },
  {
   "cell_type": "code",
   "execution_count": 95,
   "metadata": {},
   "outputs": [
    {
     "data": {
      "image/png": "[encoded data removed]",
      "text/plain": [
       "<Figure size 432x288 with 1 Axes>"
      ]
     },
     "metadata": {
      "needs_background": "light"
     },
     "output_type": "display_data"
    }
   ],
   "source": [
    "#plotting ROC curve for train and test data tuned with best hyperparameter\n",
    "knn_tfidf_train_kd = KNeighborsClassifier(n_neighbors=optimal_k_tfidf_kd)\n",
    "knn_tfidf_train_kd = knn_tfidf_train_kd.fit(final_tf_idfTrain_kd,y_train)\n",
    "\n",
    "y_pred_knn_tfidf_train_kd = knn_tfidf_train_kd.predict_proba(final_tf_idfTrain_kd)[:,1]\n",
    "fpr_bi,tpr_bi,t = metrics.roc_curve(y_train,y_pred_knn_tfidf_train_kd)\n",
    "\n",
    "y_pred_knn_tfidf_test = knn_tfidf_train_kd.predict_proba(final_tf_idfTEST_kd)[:,1]\n",
    "fpr_bi2,tpr_bi2,t = metrics.roc_curve(y_test,y_pred_knn_tfidf_test)\n",
    "\n",
    "plt.plot(fpr_bi,tpr_bi,label='Train ROC Curve')\n",
    "plt.plot(fpr_bi2,tpr_bi2,label='Test ROC Curve')\n",
    "plt.legend()\n",
    "plt.xlabel('False Positive Rate')\n",
    "plt.ylabel('True Positive Rate')\n",
    "plt.title('ROC curve of train and test data')\n",
    "plt.show()\n"
   ]
  },
  {
   "cell_type": "code",
   "execution_count": 96,
   "metadata": {
    "scrolled": true
   },
   "outputs": [
    {
     "data": {
      "text/plain": [
       "<matplotlib.axes._subplots.AxesSubplot at 0x2211e9082c8>"
      ]
     },
     "execution_count": 96,
     "metadata": {},
     "output_type": "execute_result"
    },
    {
     "data": {
      "image/png": "[encoded data removed]",
      "text/plain": [
       "<Figure size 432x288 with 2 Axes>"
      ]
     },
     "metadata": {
      "needs_background": "light"
     },
     "output_type": "display_data"
    }
   ],
   "source": [
    "#Confusion matrix with default value of threshold i.e. 0.5\n",
    "\n",
    "pred_knn_kd_tfidf = knn_tfidf_train_kd.predict(final_tf_idfTEST_kd)\n",
    "\n",
    "cm = metrics.confusion_matrix(y_test,pred_knn_kd_tfidf)\n",
    "\n",
    "ax2 = plt.subplot()\n",
    "sns.heatmap(cm,annot=True,ax=ax2,fmt='g')"
   ]
  },
  {
   "cell_type": "code",
   "execution_count": 97,
   "metadata": {},
   "outputs": [
    {
     "name": "stdout",
     "output_type": "stream",
     "text": [
      "0.1\n"
     ]
    },
    {
     "data": {
      "text/plain": [
       "<matplotlib.axes._subplots.AxesSubplot at 0x221256ba948>"
      ]
     },
     "execution_count": 97,
     "metadata": {},
     "output_type": "execute_result"
    },
    {
     "data": {
      "image/png": "[encoded data removed]",
      "text/plain": [
       "<Figure size 432x288 with 2 Axes>"
      ]
     },
     "metadata": {
      "needs_background": "light"
     },
     "output_type": "display_data"
    }
   ],
   "source": [
    "#finding the best threshold for probability to be considered for confusion matrix to classify reviews\n",
    "#decided on the basis of ratio of correct against wrong prediction\n",
    "\n",
    "from sklearn.preprocessing import binarize\n",
    "\n",
    "t = list(np.arange(0.1,1.1,0.1))\n",
    "ratio=[]\n",
    "for x in t:\n",
    "    pred_class = binarize(pred_knn_kd_tfidf.reshape(-1,1),threshold = x)\n",
    "    tn, fp, fn, tp = metrics.confusion_matrix(y_test,pred_class).ravel()\n",
    "    ratio.append((tp+tn)/(fp+fn))\n",
    "#print(ratio)\n",
    "optimal_t_tfidf_kd = t[ratio.index(max(ratio))]\n",
    "print(optimal_t_tfidf_kd)\n",
    "\n",
    "pred_class = binarize(pred_knn_kd_tfidf.reshape(-1,1),threshold = optimal_t_tfidf_kd)\n",
    "cm2 = metrics.confusion_matrix(y_test,pred_class)\n",
    "plt.figure()\n",
    "ax2 = plt.subplot()\n",
    "sns.heatmap(cm2,annot=True,ax=ax2,fmt='g')"
   ]
  },
  {
   "cell_type": "markdown",
   "metadata": {},
   "source": [
    "### [5.2.3] Applying KNN kd-tree on AVG W2V,<font color='red'> SET 3</font>"
   ]
  },
  {
   "cell_type": "code",
   "execution_count": 98,
   "metadata": {},
   "outputs": [
    {
     "name": "stdout",
     "output_type": "stream",
     "text": [
      "number of words that occured minimum 5 times  4963\n",
      "sample words  ['dogs', 'loves', 'chicken', 'product', 'china', 'wont', 'buying', 'anymore', 'hard', 'find', 'products', 'made', 'usa', 'one', 'isnt', 'bad', 'good', 'take', 'chances', 'till', 'know', 'going', 'love', 'saw', 'pet', 'store', 'tag', 'attached', 'regarding', 'satisfied', 'safe', 'available', 'course', 'total', 'fly', 'pretty', 'stinky', 'right', 'nearby', 'used', 'ca', 'not', 'beat', 'great', 'received', 'shipment', 'could', 'hardly', 'wait', 'try']\n"
     ]
    },
    {
     "name": "stderr",
     "output_type": "stream",
     "text": [
      "100%|█████████████████████████████████████████████████████████████████████████████| 7350/7350 [00:11<00:00, 616.60it/s]\n"
     ]
    },
    {
     "name": "stdout",
     "output_type": "stream",
     "text": [
      "(7350, 50)\n",
      "[-0.74177829 -0.1311629  -0.24411532  0.07826879  0.0344186  -0.1633452\n",
      "  0.3170035   0.19550106 -0.41059708 -0.06048384 -0.64874303 -0.68083594\n",
      "  0.12629839  0.0539388   0.19290186  0.07981466 -0.40117564 -0.34165051\n",
      "  0.20567594 -0.21854388  0.05070419  0.41670835  0.13828539  0.21674935\n",
      "  0.36998618 -0.21315997  0.21606547 -0.01223966 -0.71482395  0.32122735\n",
      "  0.17702145 -0.73653411  0.40413959  0.74877437 -0.05257454 -0.00651091\n",
      "  0.6019955   0.76129363  0.07670107  0.09253432  0.00357502  0.53147042\n",
      " -0.05940258 -0.13781548 -0.07450249 -0.0369038   0.65714797  0.08583723\n",
      " -0.12067825 -0.23849235]\n"
     ]
    },
    {
     "name": "stderr",
     "output_type": "stream",
     "text": [
      "100%|█████████████████████████████████████████████████████████████████████████████| 3150/3150 [00:05<00:00, 571.67it/s]\n"
     ]
    },
    {
     "name": "stdout",
     "output_type": "stream",
     "text": [
      "(3150, 50)\n",
      "[-0.69960199 -0.11628603 -0.12013907  0.11801907 -0.07825283 -0.23778302\n",
      "  0.36125754  0.23555509 -0.58375121  0.06686221 -0.73573583 -0.7854349\n",
      " -0.10395338  0.0133913   0.08756568  0.23494415 -0.4337462  -0.34654113\n",
      "  0.20922789 -0.23570124 -0.00502781  0.3400504   0.25747038  0.2278305\n",
      "  0.35612611 -0.27389233  0.24227651  0.00794342 -0.74986668  0.25925571\n",
      "  0.22015071 -0.69327669  0.43529193  0.77972814 -0.07424324 -0.09937611\n",
      "  0.66062937  0.79792486 -0.07786214  0.06189518  0.02573233  0.68487997\n",
      " -0.05024117 -0.13279859 -0.11835058 -0.05398284  0.5689456   0.13895048\n",
      " -0.15496661 -0.17945187]\n"
     ]
    },
    {
     "name": "stderr",
     "output_type": "stream",
     "text": [
      "100%|█████████████████████████████████████████████████████████████████████████████| 4500/4500 [00:08<00:00, 552.54it/s]\n"
     ]
    },
    {
     "name": "stdout",
     "output_type": "stream",
     "text": [
      "(4500, 50)\n",
      "[-0.61368814 -0.42602374 -0.10157663  0.18444372  0.06407314 -0.23008127\n",
      "  0.31345954 -0.09320014 -1.02901461  0.25179202 -0.47543553 -0.507854\n",
      "  0.03204012 -0.3589945   0.17980895  0.09248139 -0.25770575 -0.53036675\n",
      "  0.18026214 -0.23942834  0.51874146  0.53548066  0.50646826  0.36420963\n",
      "  0.29331694 -0.47893741  0.27983103 -0.22838228 -0.75665831 -0.17517985\n",
      "  0.15379737 -0.82004038  0.48766871  0.37577791 -0.14982453 -0.36829446\n",
      "  0.41203758  0.70912765 -0.21579295  0.00432438  0.35307366  0.80468371\n",
      "  0.05032447  0.06818355  0.14147688  0.08663823  0.77502265  0.41730314\n",
      "  0.07684899 -0.12548219]\n"
     ]
    }
   ],
   "source": [
    "# Train your own Word2Vec model using your own text corpus\n",
    "i=0\n",
    "list_of_sentence_train=[]\n",
    "for sentence in X_train:\n",
    "    list_of_sentence_train.append(sentence.split())\n",
    "\n",
    "w2v_model=Word2Vec(list_of_sentence_train,min_count=5,size=50, workers=4)\n",
    "w2v_words = list(w2v_model.wv.vocab)\n",
    "print(\"number of words that occured minimum 5 times \",len(w2v_words))\n",
    "print(\"sample words \", w2v_words[0:50])\n",
    "\n",
    "## [4.4.1] Converting text into vectors using Avg W2V, TFIDF-W2V\n",
    "\n",
    "#### [4.4.1.1] Avg W2v\n",
    "\n",
    "# average Word2Vec\n",
    "# compute average word2vec for each review.\n",
    "sent_vectors_train = []; # the avg-w2v for each sentence/review is stored in this list\n",
    "for sent in tqdm(list_of_sentence_train): # for each review/sentence\n",
    "    sent_vec = np.zeros(50) # as word vectors are of zero length 50, you might need to change this to 300 if you use google's w2v\n",
    "    cnt_words =0; # num of words with a valid vector in the sentence/review\n",
    "    for word in sent: # for each word in a review/sentence\n",
    "        if word in w2v_words:\n",
    "            vec = w2v_model.wv[word]\n",
    "            sent_vec += vec\n",
    "            cnt_words += 1\n",
    "    if cnt_words != 0:\n",
    "        sent_vec /= cnt_words\n",
    "    sent_vectors_train.append(sent_vec)\n",
    "sent_vectors_train = np.array(sent_vectors_train)\n",
    "print(sent_vectors_train.shape)\n",
    "print(sent_vectors_train[0])\n",
    "\n",
    "# Converting CV data text\n",
    "\n",
    "i=0\n",
    "list_of_sentence_cv=[]\n",
    "for sentence in X_CV:\n",
    "    list_of_sentence_cv.append(sentence.split())\n",
    "\n",
    "# average Word2Vec\n",
    "# compute average word2vec for each review.\n",
    "sent_vectors_cv = []; # the avg-w2v for each sentence/review is stored in this list\n",
    "for sent in tqdm(list_of_sentence_cv): # for each review/sentence\n",
    "    sent_vec = np.zeros(50) # as word vectors are of zero length 50, you might need to change this to 300 if you use google's w2v\n",
    "    cnt_words =0; # num of words with a valid vector in the sentence/review\n",
    "    for word in sent: # for each word in a review/sentence\n",
    "        if word in w2v_words:\n",
    "            vec = w2v_model.wv[word]\n",
    "            sent_vec += vec\n",
    "            cnt_words += 1\n",
    "    if cnt_words != 0:\n",
    "        sent_vec /= cnt_words\n",
    "    sent_vectors_cv.append(sent_vec)\n",
    "sent_vectors_cv = np.array(sent_vectors_cv)\n",
    "print(sent_vectors_cv.shape)\n",
    "print(sent_vectors_cv[0])\n",
    "\n",
    "# Converting Test data text\n",
    "\n",
    "i=0\n",
    "list_of_sentence_test=[]\n",
    "for sentence in X_test:\n",
    "    list_of_sentence_test.append(sentence.split())\n",
    "\n",
    "# average Word2Vec\n",
    "# compute average word2vec for each review.\n",
    "sent_vectors_test = []; # the avg-w2v for each sentence/review is stored in this list\n",
    "for sent in tqdm(list_of_sentence_test): # for each review/sentence\n",
    "    sent_vec = np.zeros(50) # as word vectors are of zero length 50, you might need to change this to 300 if you use google's w2v\n",
    "    cnt_words =0; # num of words with a valid vector in the sentence/review\n",
    "    for word in sent: # for each word in a review/sentence\n",
    "        if word in w2v_words:\n",
    "            vec = w2v_model.wv[word]\n",
    "            sent_vec += vec\n",
    "            cnt_words += 1\n",
    "    if cnt_words != 0:\n",
    "        sent_vec /= cnt_words\n",
    "    sent_vectors_test.append(sent_vec)\n",
    "sent_vectors_test = np.array(sent_vectors_test)\n",
    "print(sent_vectors_test.shape)\n",
    "print(sent_vectors_test[0])"
   ]
  },
  {
   "cell_type": "code",
   "execution_count": 99,
   "metadata": {},
   "outputs": [
    {
     "name": "stdout",
     "output_type": "stream",
     "text": [
      "Best Estimator :  KNeighborsClassifier(algorithm='kd_tree', leaf_size=30, metric='minkowski',\n",
      "                     metric_params=None, n_jobs=None, n_neighbors=29, p=2,\n",
      "                     weights='uniform')\n",
      "\n",
      "Classes :  [0 1]\n",
      "\n",
      "Best Score :  0.6856966247231467\n",
      "\n",
      "No of Splits :  5\n",
      "\n",
      "Best params :  {'algorithm': 'kd_tree', 'n_neighbors': 29}\n",
      "optimal_k for avgw2v kd tree version  29\n"
     ]
    }
   ],
   "source": [
    "# Please write all the code with proper documentation\n",
    "\n",
    "# Please write all the code with proper documentation\n",
    "                 \n",
    "hyperparameters = {'n_neighbors':list(filter(lambda x : x % 2 != 0 , list(range(2,30)))),'algorithm':['kd_tree']}\n",
    "\n",
    "knn_kd_avgw2v = GridSearchCV(KNeighborsClassifier(),param_grid=hyperparameters,cv=5,scoring='roc_auc')\n",
    "knn_kd_avgw2v.fit(sent_vectors_train,y_train)\n",
    "\n",
    "print('Best Estimator : ',knn_kd_avgw2v.best_estimator_)\n",
    "print('\\nClasses : ',knn_kd_avgw2v.classes_)\n",
    "print('\\nBest Score : ',knn_kd_avgw2v.best_score_)\n",
    "print('\\nNo of Splits : ',knn_kd_avgw2v.n_splits_)\n",
    "print('\\nBest params : ',knn_kd_avgw2v.best_params_)\n",
    "\n",
    "optimal_k_avgw2v_kd = knn_kd_avgw2v.best_params_['n_neighbors']\n",
    "print('optimal_k for avgw2v kd tree version ',optimal_k_avgw2v_kd)\n"
   ]
  },
  {
   "cell_type": "code",
   "execution_count": 100,
   "metadata": {},
   "outputs": [],
   "source": [
    "AUC_max_avgw2v_kd = knn_kd_avgw2v.best_score_"
   ]
  },
  {
   "cell_type": "code",
   "execution_count": 101,
   "metadata": {},
   "outputs": [],
   "source": [
    "#storing the AUC scores for each grid\n",
    "AUC_train_avgw2v_kd = knn_kd_avgw2v.cv_results_['mean_test_score']\n",
    "\n",
    "#storing AUC for CV data for each neighbor\n",
    "AUC_cv_avgw2v_kd = GridSearchCV(KNeighborsClassifier(),param_grid=hyperparameters,cv=5,scoring='roc_auc').fit(sent_vectors_cv,y_CV).cv_results_['mean_test_score']\n"
   ]
  },
  {
   "cell_type": "code",
   "execution_count": 102,
   "metadata": {},
   "outputs": [
    {
     "data": {
      "image/png": "[encoded data removed]",
      "text/plain": [
       "<Figure size 432x288 with 1 Axes>"
      ]
     },
     "metadata": {
      "needs_background": "light"
     },
     "output_type": "display_data"
    }
   ],
   "source": [
    "#plotting AUC for train and cv data\n",
    "\n",
    "plt.plot(AUC_train_avgw2v_kd,hyperparameters['n_neighbors'],label='train_curve')\n",
    "plt.plot(AUC_cv_avgw2v_kd,hyperparameters['n_neighbors'],label='cv_curve')\n",
    "plt.title('ROC curve for train and cv data')\n",
    "plt.xlabel('Hyperparameters : neighbors')\n",
    "plt.ylabel('AUC Score')\n",
    "plt.legend()\n",
    "plt.show()"
   ]
  },
  {
   "cell_type": "code",
   "execution_count": 103,
   "metadata": {},
   "outputs": [
    {
     "data": {
      "image/png": "[encoded data removed]",
      "text/plain": [
       "<Figure size 432x288 with 1 Axes>"
      ]
     },
     "metadata": {
      "needs_background": "light"
     },
     "output_type": "display_data"
    }
   ],
   "source": [
    "#plotting ROC curve for train and test data tuned with best hyperparameter\n",
    "knn_avgw2v_train_kd = KNeighborsClassifier(n_neighbors=optimal_k_avgw2v_kd)\n",
    "knn_avgw2v_train_kd = knn_avgw2v_train_kd.fit(sent_vectors_train,y_train)\n",
    "\n",
    "y_pred_knn_avgw2v_train_kd = knn_avgw2v_train_kd.predict_proba(sent_vectors_train)[:,1]\n",
    "fpr_bi,tpr_bi,t = metrics.roc_curve(y_train,y_pred_knn_avgw2v_train_kd)\n",
    "\n",
    "y_pred_knn_avgw2v_test = knn_avgw2v_train_kd.predict_proba(sent_vectors_test)[:,1]\n",
    "fpr_bi2,tpr_bi2,t = metrics.roc_curve(y_test,y_pred_knn_avgw2v_test)\n",
    "\n",
    "plt.plot(fpr_bi,tpr_bi,label='Train ROC Curve')\n",
    "plt.plot(fpr_bi2,tpr_bi2,label='Test ROC Curve')\n",
    "plt.legend()\n",
    "plt.xlabel('False Positive Rate')\n",
    "plt.ylabel('True Positive Rate')\n",
    "plt.title('ROC curve of train and test data')\n",
    "plt.show()"
   ]
  },
  {
   "cell_type": "code",
   "execution_count": 104,
   "metadata": {
    "scrolled": true
   },
   "outputs": [
    {
     "data": {
      "text/plain": [
       "<matplotlib.axes._subplots.AxesSubplot at 0x22123c46788>"
      ]
     },
     "execution_count": 104,
     "metadata": {},
     "output_type": "execute_result"
    },
    {
     "data": {
      "image/png": "[encoded data removed]",
      "text/plain": [
       "<Figure size 432x288 with 2 Axes>"
      ]
     },
     "metadata": {
      "needs_background": "light"
     },
     "output_type": "display_data"
    }
   ],
   "source": [
    "#Confusion matrix with default value of threshold i.e. 0.5\n",
    "\n",
    "pred_knn_kd_avgw2v = knn_avgw2v_train_kd.predict(sent_vectors_test)\n",
    "\n",
    "cm = metrics.confusion_matrix(y_test,pred_knn_kd_avgw2v)\n",
    "\n",
    "ax2 = plt.subplot()\n",
    "sns.heatmap(cm,annot=True,ax=ax2,fmt='g')"
   ]
  },
  {
   "cell_type": "code",
   "execution_count": 105,
   "metadata": {
    "scrolled": false
   },
   "outputs": [
    {
     "name": "stdout",
     "output_type": "stream",
     "text": [
      "0.1\n"
     ]
    },
    {
     "data": {
      "text/plain": [
       "<matplotlib.axes._subplots.AxesSubplot at 0x221260660c8>"
      ]
     },
     "execution_count": 105,
     "metadata": {},
     "output_type": "execute_result"
    },
    {
     "data": {
      "image/png": "[encoded data removed]",
      "text/plain": [
       "<Figure size 432x288 with 2 Axes>"
      ]
     },
     "metadata": {
      "needs_background": "light"
     },
     "output_type": "display_data"
    }
   ],
   "source": [
    "#finding the best threshold for probability to be considered for confusion matrix to classify reviews\n",
    "#decided on the basis of ratio of correct against wrong prediction\n",
    "\n",
    "from sklearn.preprocessing import binarize\n",
    "\n",
    "t = list(np.arange(0.1,1.1,0.1))\n",
    "ratio=[]\n",
    "for x in t:\n",
    "    pred_class = binarize(pred_knn_kd_avgw2v.reshape(-1,1),threshold = x)\n",
    "    tn, fp, fn, tp = metrics.confusion_matrix(y_test,pred_class).ravel()\n",
    "    ratio.append((tp+tn)/(fp+fn))\n",
    "#print(ratio)\n",
    "optimal_t_avgw2v_kd = t[ratio.index(max(ratio))]\n",
    "print(optimal_t_avgw2v_kd)\n",
    "\n",
    "pred_class = binarize(pred_knn_kd_avgw2v.reshape(-1,1),threshold = optimal_t_avgw2v_kd)\n",
    "cm2 = metrics.confusion_matrix(y_test,pred_class)\n",
    "plt.figure()\n",
    "ax2 = plt.subplot()\n",
    "sns.heatmap(cm2,annot=True,ax=ax2,fmt='g')"
   ]
  },
  {
   "cell_type": "markdown",
   "metadata": {},
   "source": [
    "### [5.2.4] Applying KNN kd-tree on TFIDF W2V,<font color='red'> SET 4</font>"
   ]
  },
  {
   "cell_type": "code",
   "execution_count": 106,
   "metadata": {},
   "outputs": [
    {
     "name": "stderr",
     "output_type": "stream",
     "text": [
      "100%|█████████████████████████████████████████████████████████████████████████████| 7350/7350 [01:04<00:00, 113.35it/s]\n",
      "100%|█████████████████████████████████████████████████████████████████████████████| 3150/3150 [00:26<00:00, 119.68it/s]\n",
      "100%|█████████████████████████████████████████████████████████████████████████████| 4500/4500 [00:40<00:00, 111.28it/s]\n"
     ]
    }
   ],
   "source": [
    "#### [4.4.1.2] TFIDF weighted W2v\n",
    "\n",
    "# S = [\"abc def pqr\", \"def def def abc\", \"pqr pqr def\"]\n",
    "model_tf = TfidfVectorizer()\n",
    "tf_idf_matrix = model_tf.fit_transform(X_train)\n",
    "# we are converting a dictionary with word as a key, and the idf as a value\n",
    "dictionary = dict(zip(model_tf.get_feature_names(), list(model_tf.idf_)))\n",
    "\n",
    "### TFIDF W2V vectorization of  train data\n",
    "\n",
    "# TF-IDF weighted Word2Vec\n",
    "tfidf_feat = model_tf.get_feature_names() # tfidf words/col-names\n",
    "# final_tf_idf is the sparse matrix with row= sentence, col=word and cell_val = tfidf\n",
    "\n",
    "tfidf_sent_vectors_train = []; # the tfidf-w2v for each sentence/review is stored in this list\n",
    "row=0;\n",
    "for sent in tqdm(list_of_sentence_train): # for each review/sentence \n",
    "    sent_vec = np.zeros(50) # as word vectors are of zero length\n",
    "    weight_sum =0; # num of words with a valid vector in the sentence/review\n",
    "    for word in sent: # for each word in a review/sentence\n",
    "        if word in w2v_words and word in tfidf_feat:\n",
    "            vec = w2v_model.wv[word]\n",
    "#             tf_idf = tf_idf_matrix[row, tfidf_feat.index(word)]\n",
    "            # to reduce the computation we are \n",
    "            # dictionary[word] = idf value of word in whole courpus\n",
    "            # sent.count(word) = tf valeus of word in this review\n",
    "            tf_idf = dictionary[word]*(sent.count(word)/len(sent))\n",
    "            sent_vec += (vec * tf_idf)\n",
    "            weight_sum += tf_idf\n",
    "    if weight_sum != 0:\n",
    "        sent_vec /= weight_sum\n",
    "    tfidf_sent_vectors_train.append(sent_vec)\n",
    "    row += 1\n",
    "\n",
    "# TFIDF W2V vectorization of  CV data\n",
    "\n",
    "\n",
    "tfidf_sent_vectors_CV = []; # the tfidf-w2v for each sentence/review is stored in this list\n",
    "row=0;\n",
    "for sent in tqdm(list_of_sentence_cv): # for each review/sentence \n",
    "    sent_vec = np.zeros(50) # as word vectors are of zero length\n",
    "    weight_sum =0; # num of words with a valid vector in the sentence/review\n",
    "    for word in sent: # for each word in a review/sentence\n",
    "        if word in w2v_words and word in tfidf_feat:\n",
    "            vec = w2v_model.wv[word]\n",
    "#             tf_idf = tf_idf_matrix[row, tfidf_feat.index(word)]\n",
    "            # to reduce the computation we are \n",
    "            # dictionary[word] = idf value of word in whole courpus\n",
    "            # sent.count(word) = tf valeus of word in this review\n",
    "            tf_idf = dictionary[word]*(sent.count(word)/len(sent))\n",
    "            sent_vec += (vec * tf_idf)\n",
    "            weight_sum += tf_idf\n",
    "    if weight_sum != 0:\n",
    "        sent_vec /= weight_sum\n",
    "    tfidf_sent_vectors_CV.append(sent_vec)\n",
    "    row += 1\n",
    "\n",
    "# TFIDF W2V vectorization of  test data\n",
    "\n",
    "tfidf_sent_vectors_test = []; # the tfidf-w2v for each sentence/review is stored in this list\n",
    "row=0;\n",
    "for sent in tqdm(list_of_sentence_test): # for each review/sentence \n",
    "    sent_vec = np.zeros(50) # as word vectors are of zero length\n",
    "    weight_sum =0; # num of words with a valid vector in the sentence/review\n",
    "    for word in sent: # for each word in a review/sentence\n",
    "        if word in w2v_words and word in tfidf_feat:\n",
    "            vec = w2v_model.wv[word]\n",
    "#             tf_idf = tf_idf_matrix[row, tfidf_feat.index(word)]\n",
    "            # to reduce the computation we are \n",
    "            # dictionary[word] = idf value of word in whole courpus\n",
    "            # sent.count(word) = tf valeus of word in this review\n",
    "            tf_idf = dictionary[word]*(sent.count(word)/len(sent))\n",
    "            sent_vec += (vec * tf_idf)\n",
    "            weight_sum += tf_idf\n",
    "    if weight_sum != 0:\n",
    "        sent_vec /= weight_sum\n",
    "    tfidf_sent_vectors_test.append(sent_vec)\n",
    "    row += 1\n",
    "\n",
    "tfidf_sent_vectors_train = np.array(tfidf_sent_vectors_train)\n",
    "tfidf_sent_vectors_CV = np.array(tfidf_sent_vectors_CV)\n",
    "tfidf_sent_vectors_test = np.array(tfidf_sent_vectors_test)"
   ]
  },
  {
   "cell_type": "code",
   "execution_count": 107,
   "metadata": {},
   "outputs": [
    {
     "name": "stdout",
     "output_type": "stream",
     "text": [
      "Best Estimator :  KNeighborsClassifier(algorithm='kd_tree', leaf_size=30, metric='minkowski',\n",
      "                     metric_params=None, n_jobs=None, n_neighbors=29, p=2,\n",
      "                     weights='uniform')\n",
      "\n",
      "Classes :  [0 1]\n",
      "\n",
      "Best Score :  0.6476643472609723\n",
      "\n",
      "No of Splits :  5\n",
      "\n",
      "Best params :  {'algorithm': 'kd_tree', 'n_neighbors': 29}\n",
      "29\n"
     ]
    }
   ],
   "source": [
    "# Please write all the code with proper documentation\n",
    "\n",
    "hyperparameters = {'n_neighbors':list(filter(lambda x : x % 2 != 0 , list(range(2,30)))),'algorithm':['kd_tree']}\n",
    "\n",
    "knn_kd_tfw2v = GridSearchCV(KNeighborsClassifier(),param_grid=hyperparameters,cv=5,scoring='roc_auc')\n",
    "knn_kd_tfw2v.fit(tfidf_sent_vectors_train,y_train)\n",
    "\n",
    "print('Best Estimator : ',knn_kd_tfw2v.best_estimator_)\n",
    "print('\\nClasses : ',knn_kd_tfw2v.classes_)\n",
    "print('\\nBest Score : ',knn_kd_tfw2v.best_score_)\n",
    "print('\\nNo of Splits : ',knn_kd_tfw2v.n_splits_)\n",
    "print('\\nBest params : ',knn_kd_tfw2v.best_params_)\n",
    "\n",
    "optimal_k_tfw2v_kd = knn_kd_tfw2v.best_params_['n_neighbors']\n",
    "print(optimal_k_tfw2v_kd)\n",
    "\n",
    "#storing the AUC scores for each grid\n",
    "AUC_train_tfw2v_kd = knn_kd_tfw2v.cv_results_['mean_test_score']\n"
   ]
  },
  {
   "cell_type": "code",
   "execution_count": 108,
   "metadata": {},
   "outputs": [],
   "source": [
    "AUC_max_tfw2v_kd = knn_kd_tfw2v.best_score_"
   ]
  },
  {
   "cell_type": "code",
   "execution_count": 109,
   "metadata": {},
   "outputs": [],
   "source": [
    "#storing AUC for CV data for each neighbor\n",
    "AUC_cv_tfw2v_kd = GridSearchCV(KNeighborsClassifier(),param_grid=hyperparameters,cv=5,scoring='roc_auc').fit(tfidf_sent_vectors_CV,y_CV).cv_results_['mean_test_score']\n"
   ]
  },
  {
   "cell_type": "code",
   "execution_count": 110,
   "metadata": {},
   "outputs": [
    {
     "data": {
      "image/png": "[encoded data removed]",
      "text/plain": [
       "<Figure size 432x288 with 1 Axes>"
      ]
     },
     "metadata": {
      "needs_background": "light"
     },
     "output_type": "display_data"
    }
   ],
   "source": [
    "#plotting AUC for train and cv data\n",
    "\n",
    "plt.plot(AUC_train_tfw2v_kd,hyperparameters['n_neighbors'],label='train_curve')\n",
    "plt.plot(AUC_cv_tfw2v_kd,hyperparameters['n_neighbors'],label='cv_curve')\n",
    "plt.title('ROC curve for train and cv data')\n",
    "plt.xlabel('Hyperparameters : neighbors')\n",
    "plt.ylabel('AUC Score')\n",
    "plt.legend()\n",
    "plt.show()"
   ]
  },
  {
   "cell_type": "code",
   "execution_count": 111,
   "metadata": {},
   "outputs": [
    {
     "data": {
      "image/png": "[encoded data removed]",
      "text/plain": [
       "<Figure size 432x288 with 1 Axes>"
      ]
     },
     "metadata": {
      "needs_background": "light"
     },
     "output_type": "display_data"
    }
   ],
   "source": [
    "#plotting ROC curve for train and test data tuned with best hyperparameter\n",
    "knn_tfw2v_train_kd = KNeighborsClassifier(n_neighbors=optimal_k_tfw2v_kd)\n",
    "knn_tfw2v_train_kd = knn_tfw2v_train_kd.fit(tfidf_sent_vectors_train,y_train)\n",
    "\n",
    "y_pred_knn_tfw2v_train_kd = knn_tfw2v_train_kd.predict_proba(tfidf_sent_vectors_train)[:,1]\n",
    "fpr_bi,tpr_bi,t = metrics.roc_curve(y_train,y_pred_knn_tfw2v_train_kd)\n",
    "\n",
    "y_pred_knn_tfw2v_test = knn_tfw2v_train_kd.predict_proba(tfidf_sent_vectors_test)[:,1]\n",
    "fpr_bi2,tpr_bi2,t = metrics.roc_curve(y_test,y_pred_knn_tfw2v_test)\n",
    "\n",
    "plt.plot(fpr_bi,tpr_bi,label='Train ROC Curve')\n",
    "plt.plot(fpr_bi2,tpr_bi2,label='Test ROC Curve')\n",
    "plt.legend()\n",
    "plt.xlabel('False Positive Rate')\n",
    "plt.ylabel('True Positive Rate')\n",
    "plt.title('ROC curve of train and test data')\n",
    "plt.show()"
   ]
  },
  {
   "cell_type": "code",
   "execution_count": 112,
   "metadata": {},
   "outputs": [
    {
     "data": {
      "text/plain": [
       "<matplotlib.axes._subplots.AxesSubplot at 0x2212750ca48>"
      ]
     },
     "execution_count": 112,
     "metadata": {},
     "output_type": "execute_result"
    },
    {
     "data": {
      "image/png": "[encoded data removed]",
      "text/plain": [
       "<Figure size 432x288 with 2 Axes>"
      ]
     },
     "metadata": {
      "needs_background": "light"
     },
     "output_type": "display_data"
    }
   ],
   "source": [
    "#Confusion matrix with default value of threshold i.e. 0.5\n",
    "\n",
    "pred_knn_kd_tfw2v = knn_tfw2v_train_kd.predict(tfidf_sent_vectors_test)\n",
    "\n",
    "cm = metrics.confusion_matrix(y_test,pred_knn_kd_tfw2v)\n",
    "\n",
    "ax2 = plt.subplot()\n",
    "sns.heatmap(cm,annot=True,ax=ax2,fmt='g')\n"
   ]
  },
  {
   "cell_type": "code",
   "execution_count": 113,
   "metadata": {
    "scrolled": true
   },
   "outputs": [
    {
     "name": "stdout",
     "output_type": "stream",
     "text": [
      "0.1\n"
     ]
    },
    {
     "data": {
      "text/plain": [
       "<matplotlib.axes._subplots.AxesSubplot at 0x221274f7d08>"
      ]
     },
     "execution_count": 113,
     "metadata": {},
     "output_type": "execute_result"
    },
    {
     "data": {
      "image/png": "[encoded data removed]",
      "text/plain": [
       "<Figure size 432x288 with 2 Axes>"
      ]
     },
     "metadata": {
      "needs_background": "light"
     },
     "output_type": "display_data"
    }
   ],
   "source": [
    "#finding the best threshold for probability to be considered for confusion matrix to classify reviews\n",
    "#decided on the basis of ratio of correct against wrong prediction\n",
    "\n",
    "from sklearn.preprocessing import binarize\n",
    "\n",
    "t = list(np.arange(0.1,1.1,0.1))\n",
    "ratio=[]\n",
    "for x in t:\n",
    "    pred_class = binarize(pred_knn_kd_tfw2v.reshape(-1,1),threshold = x)\n",
    "    tn, fp, fn, tp = metrics.confusion_matrix(y_test,pred_class).ravel()\n",
    "    ratio.append((tp+tn)/(fp+fn))\n",
    "#print(ratio)\n",
    "optimal_t_tfw2v_kd = t[ratio.index(max(ratio))]\n",
    "print(optimal_t_tfw2v_kd)\n",
    "\n",
    "pred_class = binarize(pred_knn_kd_tfw2v.reshape(-1,1),threshold = optimal_t_tfw2v_kd)\n",
    "cm2 = metrics.confusion_matrix(y_test,pred_class)\n",
    "plt.figure()\n",
    "ax2 = plt.subplot()\n",
    "sns.heatmap(cm2,annot=True,ax=ax2,fmt='g')"
   ]
  },
  {
   "cell_type": "markdown",
   "metadata": {},
   "source": [
    "# [6] Conclusions"
   ]
  },
  {
   "cell_type": "code",
   "execution_count": 120,
   "metadata": {},
   "outputs": [
    {
     "name": "stdout",
     "output_type": "stream",
     "text": [
      "+---------------+------------+---------------+-----------------+--------------------+---------------+\n",
      "|   Vectorizer  |   Model    |    Version    | Hyper Parameter |        AUC         | Threshold(CM) |\n",
      "+---------------+------------+---------------+-----------------+--------------------+---------------+\n",
      "|      BOW      |    KNN     |  Brute Force  |        21       | 0.6402036417134928 |      0.1      |\n",
      "|     TF IDF    |    KNN     |  Brute Force  |        11       | 0.5115266170484649 |      0.1      |\n",
      "|    AVG W2V    |    KNN     |  Brute Force  |        29       | 0.8544990169457624 |      0.1      |\n",
      "|   TF-IDF W2V  |    KNN     |  Brute Force  |        29       | 0.8205762996917313 |      0.1      |\n",
      "| ------------- | ---------- | ------------- |   ------------  |  ---------------   |   ----------  |\n",
      "|      BOW      |    KNN     |    KD Tree    |        29       | 0.6982438251892686 |      0.1      |\n",
      "|     TF IDF    |    KNN     |    KD Tree    |        29       | 0.7167146608102605 |      0.1      |\n",
      "|    AVG W2V    |    KNN     |    KD Tree    |        29       | 0.6856966247231467 |      0.1      |\n",
      "|   TF-IDF W2V  |    KNN     |    KD Tree    |        29       | 0.7167146608102605 |      0.1      |\n",
      "+---------------+------------+---------------+-----------------+--------------------+---------------+\n"
     ]
    }
   ],
   "source": [
    "# Please compare all your models using Prettytable library\n",
    "\n",
    "from prettytable import PrettyTable\n",
    "\n",
    "x = PrettyTable(border=True)\n",
    "\n",
    "x.field_names = ['Vectorizer','Model','Version','Hyper Parameter','AUC','Threshold(CM)']\n",
    "\n",
    "x.add_row(['BOW','KNN','Brute Force',optimal_k,AUC_max_brute_bow,optimal_t])\n",
    "x.add_row(['TF IDF','KNN','Brute Force',optimal_k_tfidf,AUC_max_brute_tfidf,optimal_t_tfidf])\n",
    "x.add_row(['AVG W2V','KNN','Brute Force',optimal_k_avgw2v,AUC_max_brute_avgw2v,optimal_t_avgw2v])\n",
    "x.add_row(['TF-IDF W2V','KNN','Brute Force',optimal_k_tfw2v,AUC_max_brute_tfw2v,optimal_t_avgw2v])\n",
    "\n",
    "x.add_row(['-------------','----------','-------------','------------','---------------','----------'])\n",
    "\n",
    "x.add_row(['BOW','KNN','KD Tree',optimal_k_bow_kd,AUC_max_bow_kd,optimal_t_bow_kd])\n",
    "x.add_row(['TF IDF','KNN','KD Tree',optimal_k_tfidf_kd,AUC_max_tfidf_kd,optimal_t_tfidf_kd])\n",
    "x.add_row(['AVG W2V','KNN','KD Tree',optimal_k_avgw2v_kd,AUC_max_avgw2v_kd,optimal_t_avgw2v_kd])\n",
    "x.add_row(['TF-IDF W2V','KNN','KD Tree',optimal_k_tfw2v_kd,AUC_max_tfidf_kd,optimal_t_avgw2v_kd])\n",
    "\n",
    "\n",
    "print(x)"
   ]
  },
  {
   "cell_type": "code",
   "execution_count": null,
   "metadata": {},
   "outputs": [],
   "source": []
  }
 ],
 "metadata": {
  "kernelspec": {
   "display_name": "Python 3",
   "language": "python",
   "name": "python3"
  },
  "language_info": {
   "codemirror_mode": {
    "name": "ipython",
    "version": 3
   },
   "file_extension": ".py",
   "mimetype": "text/x-python",
   "name": "python",
   "nbconvert_exporter": "python",
   "pygments_lexer": "ipython3",
   "version": "3.7.4"
  }
 },
 "nbformat": 4,
 "nbformat_minor": 2
}
